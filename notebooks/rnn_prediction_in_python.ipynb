{
 "cells": [
  {
   "cell_type": "markdown",
   "metadata": {},
   "source": [
    "### Vorhersage des GameStop Aktienkurses mit einem Rekurrenten neuronalen Netz\n",
    "\n",
    "In diesem Notebook ist die Vorhersage\n",
    "des Gamestop-Kurses mit einem rekurrenten Netz\n",
    "in Python dokumentiert.\n",
    "\n",
    "#### Rekurrente neuronale Netze\n",
    "\n",
    "Rekurrente neuronale Netze beschreiben eine Familie von neuronalen Netzen\n",
    " für das Verarbeiten sequentieller Daten. Sie sind beispielsweise geeignet\n",
    " für die Vorhersage von Textsequenzen oder Zeitreihen. (vgl. Ian Goodfellow et al, Deep Learning, S. 365f)\n",
    "\n",
    "Rekurrente neuronale Netze haben in der Regel je Zeitschritt eine Funktion,\n",
    "welches als Input die Funktion des vorherigen Zeitschrittes erhält, und als\n",
    "Output für die nächste Funktion dient:\n",
    "\n",
    "![alt text](https://i.stack.imgur.com/BAgBq.jpg \"RNN\")\n",
    "(Quelle: https://stats.stackexchange.com/questions/392112/tool-to-draw-neural-network-directed-graphs)\n",
    "#### Architektur\n",
    "\n",
    "Die Familie der rekurrenten Netze bietet eine Fülle von Architekturen für die\n",
    "Zellen (auch genannt Neuronen oder Einheiten). In der Praxis haben sich insbesondere Architekturen mit \"gated-cells\" bewährt. Wodurch die Zellen mehr Kontrolle\n",
    "beim Lernen haben, indem sie beispielsweise durch ein Forget-Gate entscheiden, welche Informationen sie sich merken oder\n",
    "vergessen wollen.\n",
    "\n",
    "Ich habe mich für eine Long short-term\n",
    "memory Architektur entschieden, da sich diese im Allgemeinen und insbesondere im Aktienbereich bewährt hat\n",
    "und auch in der Theorie eine gute Wahl darstellen sollte (vgl. Ian Goodfellow et al, Deep Learning, S. 397ff)\n",
    "\n",
    "![alt text](https://upload.wikimedia.org/wikipedia/commons/thumb/d/d5/Long_Short_Term_Memory.png/400px-Long_Short_Term_Memory.png \"LSTM\")\n",
    "\n",
    "Grober Aufbau einer LSTM-Zelle, Quelle: https://de.wikipedia.org/wiki/Long_short-term_memory\n",
    "\n",
    "#### Hinweis\n",
    "\n",
    "Die Zellen müssen alle nacheinander in richtiger Reihenfolge ausgeführt werden, da teilweise auf Daten und Imports vorheriger Zellen zurückgegriffen wird.\n",
    "\n",
    "### Vorhersage mit den Kursdaten als einziges Feature\n",
    "\n",
    "Um den Einfluss der reddit Kommentare und Postings zu erkennen versuchen wir erst den Kurs nur mit der vorherigen\n",
    "Kursentwicklung vorherzusagen, um dieses Ergebnis mit den späteren Ergebnissen zu vergleichen.\n",
    "\n",
    "Die Daten sehen wie folgt aus:"
   ]
  },
  {
   "cell_type": "code",
   "execution_count": 1,
   "metadata": {
    "pycharm": {
     "name": "#%%\n"
    }
   },
   "outputs": [
    {
     "name": "stdout",
     "output_type": "stream",
     "text": [
      "Anzahl der Zeilen und Spalten: (89, 7)\n"
     ]
    },
    {
     "data": {
      "text/html": [
       "<div>\n",
       "<style scoped>\n",
       "    .dataframe tbody tr th:only-of-type {\n",
       "        vertical-align: middle;\n",
       "    }\n",
       "\n",
       "    .dataframe tbody tr th {\n",
       "        vertical-align: top;\n",
       "    }\n",
       "\n",
       "    .dataframe thead th {\n",
       "        text-align: right;\n",
       "    }\n",
       "</style>\n",
       "<table border=\"1\" class=\"dataframe\">\n",
       "  <thead>\n",
       "    <tr style=\"text-align: right;\">\n",
       "      <th></th>\n",
       "      <th>Date</th>\n",
       "      <th>Open</th>\n",
       "      <th>High</th>\n",
       "      <th>Low</th>\n",
       "      <th>Close</th>\n",
       "      <th>Adj Close</th>\n",
       "      <th>Volume</th>\n",
       "    </tr>\n",
       "  </thead>\n",
       "  <tbody>\n",
       "    <tr>\n",
       "      <th>0</th>\n",
       "      <td>2021-01-04</td>\n",
       "      <td>19.000000</td>\n",
       "      <td>19.100000</td>\n",
       "      <td>17.15</td>\n",
       "      <td>17.250000</td>\n",
       "      <td>17.250000</td>\n",
       "      <td>10022500</td>\n",
       "    </tr>\n",
       "    <tr>\n",
       "      <th>1</th>\n",
       "      <td>2021-01-05</td>\n",
       "      <td>17.350000</td>\n",
       "      <td>18.080000</td>\n",
       "      <td>17.23</td>\n",
       "      <td>17.370001</td>\n",
       "      <td>17.370001</td>\n",
       "      <td>4961500</td>\n",
       "    </tr>\n",
       "    <tr>\n",
       "      <th>2</th>\n",
       "      <td>2021-01-06</td>\n",
       "      <td>17.340000</td>\n",
       "      <td>18.980000</td>\n",
       "      <td>17.33</td>\n",
       "      <td>18.360001</td>\n",
       "      <td>18.360001</td>\n",
       "      <td>6056200</td>\n",
       "    </tr>\n",
       "    <tr>\n",
       "      <th>3</th>\n",
       "      <td>2021-01-07</td>\n",
       "      <td>18.469999</td>\n",
       "      <td>19.450001</td>\n",
       "      <td>18.02</td>\n",
       "      <td>18.080000</td>\n",
       "      <td>18.080000</td>\n",
       "      <td>6129300</td>\n",
       "    </tr>\n",
       "    <tr>\n",
       "      <th>4</th>\n",
       "      <td>2021-01-08</td>\n",
       "      <td>18.180000</td>\n",
       "      <td>18.299999</td>\n",
       "      <td>17.08</td>\n",
       "      <td>17.690001</td>\n",
       "      <td>17.690001</td>\n",
       "      <td>6482000</td>\n",
       "    </tr>\n",
       "  </tbody>\n",
       "</table>\n",
       "</div>"
      ],
      "text/plain": [
       "         Date       Open       High    Low      Close  Adj Close    Volume\n",
       "0  2021-01-04  19.000000  19.100000  17.15  17.250000  17.250000  10022500\n",
       "1  2021-01-05  17.350000  18.080000  17.23  17.370001  17.370001   4961500\n",
       "2  2021-01-06  17.340000  18.980000  17.33  18.360001  18.360001   6056200\n",
       "3  2021-01-07  18.469999  19.450001  18.02  18.080000  18.080000   6129300\n",
       "4  2021-01-08  18.180000  18.299999  17.08  17.690001  17.690001   6482000"
      ]
     },
     "execution_count": 1,
     "metadata": {},
     "output_type": "execute_result"
    }
   ],
   "source": [
    "import pandas as pd\n",
    "df = pd.read_csv(\"../input/GME_04Jan_11May.csv\")\n",
    "print(\"Anzahl der Zeilen und Spalten:\", df.shape)\n",
    "df.head(5)"
   ]
  },
  {
   "cell_type": "markdown",
   "metadata": {},
   "source": [
    "Es handelt sich hierbei um die Daten vom 04.01.2021 - 12.05.2021, abrufbar unter finance.yahoo.com.\n",
    "Wie schon im Word-Dokument spezifiziert, werden wir den \"Close\"-Wert vorhersagen, also den Kurs bei Börsenschluss des\n",
    "jeweiligen Tages.\n",
    "\n",
    "#### Vorbereitung der Trainingsdaten\n",
    "\n",
    "Als erstes teilen wir die Daten in Training- und Test auf. Die ersten 60 Datensätze werden die\n",
    "Trainingsdaten, die letzten 29 die Testdaten. Das entspricht in etwa einem 2:1 Verhältnis."
   ]
  },
  {
   "cell_type": "code",
   "execution_count": 2,
   "metadata": {
    "pycharm": {
     "name": "#%%\n"
    }
   },
   "outputs": [],
   "source": [
    "train_threshold = 60\n",
    "train_data = df.iloc[:train_threshold, 4:5].values\n",
    "test_data = df.iloc[train_threshold:, 4:5].values"
   ]
  },
  {
   "cell_type": "markdown",
   "metadata": {},
   "source": [
    "Um die Performance zu verbessern normalisieren wir die Daten mithilfe des Min-Max Scalers von Scikit-learn. Der Scaler wird an\n",
    "die Trainingsdaten gefittet. Wir nutzen diesen Scaler später auch für die Testdaten, denn ein erneutes Fitten an die Trainingsdaten\n",
    "würde dem Netz zusätzliche Informationen über die Struktur der Daten liefern, was das Ergebnis manipulieren würde."
   ]
  },
  {
   "cell_type": "code",
   "execution_count": 3,
   "metadata": {
    "pycharm": {
     "name": "#%%\n"
    }
   },
   "outputs": [],
   "source": [
    "from sklearn.preprocessing import MinMaxScaler\n",
    "normalizer = MinMaxScaler(feature_range=(0, 1))\n",
    "train_data_normalized = normalizer.fit_transform(train_data)"
   ]
  },
  {
   "cell_type": "markdown",
   "metadata": {},
   "source": [
    "Als nächstes werden die Trainingsdaten vorbereitet. Für ein LSTM benötigen wir ein\n",
    "drei-dimensionales Input-Array, bestehend aus Samples x Time Steps x Features.\n",
    "Ein Sample ist eine Zeitreihe, welche Features zu den jeweiligen Time Steps beinhaltet. Bei uns ist vorerst das einzige Feature der Kurswert zum Close.\n",
    "\n",
    "Die Größe eines Samples, also die Anzahl der enthaltenen Datenpunkte (timesteps) wird im Code mit der Variable batch_size definiert.\n",
    "\n",
    "Zur Erklärung der Inputs und allgemeinen praktischen Umsetzung von LSTM in Keras verweise ich auf dieses\n",
    " [Schaubild](https://github.com/MohammadFneish7/Keras_LSTM_Diagram) (Quelle: github.com/MohammadFneish7(Keras_LSTM_Diagram). Im Anhang bei pictures zu finden unter\n",
    "LSTM_Keras_model.bmp.\n",
    "\n",
    "Ein Sample ist in unserem Fall also eine Zeitreihe von Kurswerten (Anzahl entsprechend der batch_size) am jeweiligen Börsenschluss.\n",
    "\n",
    "Die beste Architektur, welche wir gefunden haben, hatte eine batch_size von 5, also 5 Timesteps pro Sample.\n",
    "\n",
    "Unten sieht man beispielhaft anhand von Sample 1 und 2 wie die Inputs aufgebaut sind.\n",
    "\n",
    "Außerdem werden noch Labels für die Trainingsdaten benötigt, was mit y_train realisiert wird. Das passende label für Sample 1 ist\n",
    "der letzte Wert von Sample 2, da dieser Wert auf die Zeitreihe von Sample 1 folgt."
   ]
  },
  {
   "cell_type": "code",
   "execution_count": 4,
   "metadata": {
    "pycharm": {
     "name": "#%%\n"
    }
   },
   "outputs": [
    {
     "name": "stdout",
     "output_type": "stream",
     "text": [
      "Sample 1:\n",
      " [[0.        ]\n",
      " [0.00036335]\n",
      " [0.00336099]\n",
      " [0.00251317]\n",
      " [0.00133229]]\n",
      "Sample 2:\n",
      " [[0.00036335]\n",
      " [0.00336099]\n",
      " [0.00251317]\n",
      " [0.00133229]\n",
      " [0.0081451 ]]\n"
     ]
    }
   ],
   "source": [
    "# preparing training data\n",
    "batch_size = 5\n",
    "import numpy as np\n",
    "X_train = []\n",
    "y_train = []\n",
    "for i in range(batch_size, train_threshold):\n",
    "    X_train.append(train_data_normalized[i-batch_size:i, 0:1])\n",
    "    y_train.append(train_data_normalized[i, 0:1])\n",
    "X_train = np.array(X_train)\n",
    "y_train = np.array(y_train)\n",
    "\n",
    "X_train = np.reshape(X_train, (X_train.shape[0], X_train.shape[1], 1))\n",
    "\n",
    "print(\"Sample 1:\\n\", X_train[0])\n",
    "print(\"Sample 2:\\n\", X_train[1])\n"
   ]
  },
  {
   "cell_type": "markdown",
   "metadata": {},
   "source": [
    "#### Ermitteln der besten Architektur\n",
    "\n",
    "Ich habe mit einem Skript und einer csv-Datei mit ca. 30 Konfigurationen verschiedene\n",
    "Architekturen getestet. Jede Architektur wurde 30 mal neu trainiert und der jeweilige mean-absolute-error (MAE) mit den Testdaten ermittelt. Anschließend wurde\n",
    " der Durchschnitt der 30 MAE-Werte ermittelt, um für jedes Modell ein\n",
    "statistisch aussagekräftiges Ergebnis zu haben. Das Skript ist im src Ordner zu finden. Die Architektur Konfigurationen und die Ergebnisse im input Ordner.\n",
    "\n",
    "Das Skript heißt mass_training_model.py und die csv-Dateien rnn_model_configs.csv und rnn_configs_with_mae.csv.\n",
    "\n",
    "Hier ein kurzer Überblick über die besten Ergebnisse:"
   ]
  },
  {
   "cell_type": "code",
   "execution_count": 5,
   "metadata": {
    "pycharm": {
     "name": "#%%\n"
    }
   },
   "outputs": [
    {
     "data": {
      "text/html": [
       "<div>\n",
       "<style scoped>\n",
       "    .dataframe tbody tr th:only-of-type {\n",
       "        vertical-align: middle;\n",
       "    }\n",
       "\n",
       "    .dataframe tbody tr th {\n",
       "        vertical-align: top;\n",
       "    }\n",
       "\n",
       "    .dataframe thead th {\n",
       "        text-align: right;\n",
       "    }\n",
       "</style>\n",
       "<table border=\"1\" class=\"dataframe\">\n",
       "  <thead>\n",
       "    <tr style=\"text-align: right;\">\n",
       "      <th></th>\n",
       "      <th>batch_size</th>\n",
       "      <th>neurons</th>\n",
       "      <th>layers</th>\n",
       "      <th>epochs</th>\n",
       "      <th>MAE</th>\n",
       "    </tr>\n",
       "  </thead>\n",
       "  <tbody>\n",
       "    <tr>\n",
       "      <th>20</th>\n",
       "      <td>5</td>\n",
       "      <td>10</td>\n",
       "      <td>3</td>\n",
       "      <td>200</td>\n",
       "      <td>9.381437</td>\n",
       "    </tr>\n",
       "    <tr>\n",
       "      <th>22</th>\n",
       "      <td>10</td>\n",
       "      <td>10</td>\n",
       "      <td>3</td>\n",
       "      <td>200</td>\n",
       "      <td>9.834293</td>\n",
       "    </tr>\n",
       "    <tr>\n",
       "      <th>15</th>\n",
       "      <td>20</td>\n",
       "      <td>20</td>\n",
       "      <td>2</td>\n",
       "      <td>200</td>\n",
       "      <td>9.973893</td>\n",
       "    </tr>\n",
       "    <tr>\n",
       "      <th>8</th>\n",
       "      <td>20</td>\n",
       "      <td>20</td>\n",
       "      <td>1</td>\n",
       "      <td>100</td>\n",
       "      <td>10.111584</td>\n",
       "    </tr>\n",
       "    <tr>\n",
       "      <th>16</th>\n",
       "      <td>15</td>\n",
       "      <td>20</td>\n",
       "      <td>2</td>\n",
       "      <td>150</td>\n",
       "      <td>10.153545</td>\n",
       "    </tr>\n",
       "  </tbody>\n",
       "</table>\n",
       "</div>"
      ],
      "text/plain": [
       "    batch_size   neurons   layers   epochs        MAE\n",
       "20           5        10        3      200   9.381437\n",
       "22          10        10        3      200   9.834293\n",
       "15          20        20        2      200   9.973893\n",
       "8           20        20        1      100  10.111584\n",
       "16          15        20        2      150  10.153545"
      ]
     },
     "execution_count": 5,
     "metadata": {},
     "output_type": "execute_result"
    }
   ],
   "source": [
    "import pandas as pd\n",
    "config_with_mae = pd.read_csv(\"../input/rnn_model_configs_with_MAE_onlyClose\")\n",
    "config_with_mae = config_with_mae.sort_values(\"MAE\", axis=0, ascending=True)\n",
    "config_with_mae.iloc[:, 1:6].head(5)"
   ]
  },
  {
   "cell_type": "markdown",
   "metadata": {},
   "source": [
    "Man sieht also, dass Architekturen mit drei Layern die besten Ergebnisse hatten. Mit etwas mehr Epochen\n",
    "konnte man bei diesen Architekturen sogar noch bessere Ergebnisse erzielen. Die beste Architektur ist\n",
    "eine mit einer geringen batch_size, obwohl sonst eigentlich eher große batch_sizes zu guten Vorhersageergebnissen geführt haben.\n",
    "\n",
    "#### Bauen des Netzes\n",
    "\n",
    "Folgende Architektur bzw. Parameter hatten das beste Ergebnis:\n",
    "\n",
    "Neuronen: 10\n",
    "\n",
    "Layer: 3\n",
    "\n",
    "batch_size: 5\n",
    "\n",
    "epochs: 300 (in der Test csv nur mit 200 getestet, bei 300 war das Ergebnis aber noch mal etwas besser)\n",
    "\n",
    "Zur Vermeidung von Overfitting wird ein Dropout-Layer\n",
    "nach jedem hidden Layer ebenfalls hinzugefügt. Das ist bei kleineren\n",
    " Datensätzen sehr hilfreich.\n",
    "\n",
    "Um die Architektur bzw. Parameter des Netzes zum Testen dynamisch anzupassen, habe ich folgende Funktion gebaut. Das Training kann ein paar Minuten dauern.\n"
   ]
  },
  {
   "cell_type": "code",
   "execution_count": 6,
   "metadata": {
    "pycharm": {
     "name": "#%%\n"
    }
   },
   "outputs": [
    {
     "name": "stdout",
     "output_type": "stream",
     "text": [
      "Epoch 1/300\n",
      "55/55 [==============================] - 0s 3ms/step - loss: 88.6879\n",
      "Epoch 2/300\n",
      "55/55 [==============================] - 0s 3ms/step - loss: 82.1693\n",
      "Epoch 3/300\n",
      "55/55 [==============================] - 0s 3ms/step - loss: 71.2723\n",
      "Epoch 4/300\n",
      "55/55 [==============================] - 0s 3ms/step - loss: 75.1445\n",
      "Epoch 5/300\n",
      "55/55 [==============================] - 0s 4ms/step - loss: 75.2065\n",
      "Epoch 6/300\n",
      "55/55 [==============================] - 0s 3ms/step - loss: 66.1896\n",
      "Epoch 7/300\n",
      "55/55 [==============================] - 0s 3ms/step - loss: 70.6217\n",
      "Epoch 8/300\n",
      "55/55 [==============================] - 0s 3ms/step - loss: 54.8595\n",
      "Epoch 9/300\n",
      "55/55 [==============================] - 0s 3ms/step - loss: 67.1400\n",
      "Epoch 10/300\n",
      "55/55 [==============================] - 0s 3ms/step - loss: 74.4381\n",
      "Epoch 11/300\n",
      "55/55 [==============================] - 0s 3ms/step - loss: 58.0541\n",
      "Epoch 12/300\n",
      "55/55 [==============================] - 0s 3ms/step - loss: 68.6800\n",
      "Epoch 13/300\n",
      "55/55 [==============================] - 0s 3ms/step - loss: 60.8309\n",
      "Epoch 14/300\n",
      "55/55 [==============================] - 0s 3ms/step - loss: 71.0746\n",
      "Epoch 15/300\n",
      "55/55 [==============================] - 0s 3ms/step - loss: 55.9868\n",
      "Epoch 16/300\n",
      "55/55 [==============================] - 0s 3ms/step - loss: 50.5084\n",
      "Epoch 17/300\n",
      "55/55 [==============================] - 0s 3ms/step - loss: 53.9253\n",
      "Epoch 18/300\n",
      "55/55 [==============================] - 0s 3ms/step - loss: 58.5659\n",
      "Epoch 19/300\n",
      "55/55 [==============================] - 0s 3ms/step - loss: 63.5563\n",
      "Epoch 20/300\n",
      "55/55 [==============================] - 0s 3ms/step - loss: 62.3731\n",
      "Epoch 21/300\n",
      "55/55 [==============================] - 0s 3ms/step - loss: 55.4183\n",
      "Epoch 22/300\n",
      "55/55 [==============================] - 0s 3ms/step - loss: 56.8550\n",
      "Epoch 23/300\n",
      "55/55 [==============================] - 0s 3ms/step - loss: 57.1608\n",
      "Epoch 24/300\n",
      "55/55 [==============================] - 0s 3ms/step - loss: 62.5440\n",
      "Epoch 25/300\n",
      "55/55 [==============================] - 0s 3ms/step - loss: 61.0718\n",
      "Epoch 26/300\n",
      "55/55 [==============================] - 0s 4ms/step - loss: 66.0755\n",
      "Epoch 27/300\n",
      "55/55 [==============================] - 0s 3ms/step - loss: 57.3730\n",
      "Epoch 28/300\n",
      "55/55 [==============================] - 0s 3ms/step - loss: 66.0547\n",
      "Epoch 29/300\n",
      "55/55 [==============================] - 0s 3ms/step - loss: 54.3877\n",
      "Epoch 30/300\n",
      "55/55 [==============================] - 0s 3ms/step - loss: 72.0800\n",
      "Epoch 31/300\n",
      "55/55 [==============================] - 0s 3ms/step - loss: 57.0993\n",
      "Epoch 32/300\n",
      "55/55 [==============================] - 0s 3ms/step - loss: 61.1636\n",
      "Epoch 33/300\n",
      "55/55 [==============================] - 0s 3ms/step - loss: 58.9257\n",
      "Epoch 34/300\n",
      "55/55 [==============================] - 0s 3ms/step - loss: 49.7695\n",
      "Epoch 35/300\n",
      "55/55 [==============================] - 0s 3ms/step - loss: 58.4586\n",
      "Epoch 36/300\n",
      "55/55 [==============================] - 0s 3ms/step - loss: 59.2580\n",
      "Epoch 37/300\n",
      "55/55 [==============================] - 0s 3ms/step - loss: 60.3888\n",
      "Epoch 38/300\n",
      "55/55 [==============================] - 0s 3ms/step - loss: 60.0429\n",
      "Epoch 39/300\n",
      "55/55 [==============================] - 0s 3ms/step - loss: 56.5700\n",
      "Epoch 40/300\n",
      "55/55 [==============================] - 0s 3ms/step - loss: 56.5243\n",
      "Epoch 41/300\n",
      "55/55 [==============================] - 0s 3ms/step - loss: 54.2354\n",
      "Epoch 42/300\n",
      "55/55 [==============================] - 0s 3ms/step - loss: 53.7421\n",
      "Epoch 43/300\n",
      "55/55 [==============================] - 0s 3ms/step - loss: 57.9544\n",
      "Epoch 44/300\n",
      "55/55 [==============================] - 0s 3ms/step - loss: 59.7256\n",
      "Epoch 45/300\n",
      "55/55 [==============================] - 0s 3ms/step - loss: 44.9548\n",
      "Epoch 46/300\n",
      "55/55 [==============================] - 0s 3ms/step - loss: 60.4052\n",
      "Epoch 47/300\n",
      "55/55 [==============================] - 0s 3ms/step - loss: 51.7749\n",
      "Epoch 48/300\n",
      "55/55 [==============================] - 0s 3ms/step - loss: 52.8289\n",
      "Epoch 49/300\n",
      "55/55 [==============================] - 0s 3ms/step - loss: 54.6765\n",
      "Epoch 50/300\n",
      "55/55 [==============================] - 0s 3ms/step - loss: 51.4515\n",
      "Epoch 51/300\n",
      "55/55 [==============================] - 0s 3ms/step - loss: 54.0121\n",
      "Epoch 52/300\n",
      "55/55 [==============================] - 0s 3ms/step - loss: 53.6616\n",
      "Epoch 53/300\n",
      "55/55 [==============================] - 0s 3ms/step - loss: 48.7559\n",
      "Epoch 54/300\n",
      "55/55 [==============================] - 0s 3ms/step - loss: 48.7015\n",
      "Epoch 55/300\n",
      "55/55 [==============================] - 0s 3ms/step - loss: 55.7571\n",
      "Epoch 56/300\n",
      "55/55 [==============================] - 0s 3ms/step - loss: 43.1995\n",
      "Epoch 57/300\n",
      "55/55 [==============================] - 0s 3ms/step - loss: 45.0816\n",
      "Epoch 58/300\n",
      "55/55 [==============================] - 0s 3ms/step - loss: 41.6188\n",
      "Epoch 59/300\n",
      "55/55 [==============================] - 0s 3ms/step - loss: 47.2510\n",
      "Epoch 60/300\n",
      "55/55 [==============================] - 0s 3ms/step - loss: 37.2618\n",
      "Epoch 61/300\n",
      "55/55 [==============================] - 0s 3ms/step - loss: 41.9925\n",
      "Epoch 62/300\n",
      "55/55 [==============================] - 0s 3ms/step - loss: 43.4751\n",
      "Epoch 63/300\n",
      "55/55 [==============================] - 0s 3ms/step - loss: 46.8532\n",
      "Epoch 64/300\n",
      "55/55 [==============================] - 0s 3ms/step - loss: 43.3891\n",
      "Epoch 65/300\n",
      "55/55 [==============================] - 0s 3ms/step - loss: 44.4248\n",
      "Epoch 66/300\n",
      "55/55 [==============================] - 0s 3ms/step - loss: 42.6582\n",
      "Epoch 67/300\n",
      "55/55 [==============================] - 0s 3ms/step - loss: 46.0020\n",
      "Epoch 68/300\n",
      "55/55 [==============================] - 0s 3ms/step - loss: 39.6200\n",
      "Epoch 69/300\n",
      "55/55 [==============================] - 0s 3ms/step - loss: 38.8128\n",
      "Epoch 70/300\n",
      "55/55 [==============================] - 0s 3ms/step - loss: 42.1847\n",
      "Epoch 71/300\n",
      "55/55 [==============================] - 0s 3ms/step - loss: 41.1798\n",
      "Epoch 72/300\n",
      "55/55 [==============================] - 0s 3ms/step - loss: 44.7071\n",
      "Epoch 73/300\n",
      "55/55 [==============================] - 0s 3ms/step - loss: 48.2378\n",
      "Epoch 74/300\n",
      "55/55 [==============================] - 0s 3ms/step - loss: 36.3226\n",
      "Epoch 75/300\n",
      "55/55 [==============================] - 0s 3ms/step - loss: 46.0251\n",
      "Epoch 76/300\n",
      "55/55 [==============================] - 0s 3ms/step - loss: 40.4216\n",
      "Epoch 77/300\n",
      "55/55 [==============================] - 0s 3ms/step - loss: 43.8319\n",
      "Epoch 78/300\n",
      "55/55 [==============================] - 0s 3ms/step - loss: 40.3107\n",
      "Epoch 79/300\n",
      "55/55 [==============================] - 0s 3ms/step - loss: 41.7677\n",
      "Epoch 80/300\n",
      "55/55 [==============================] - 0s 3ms/step - loss: 38.0082\n",
      "Epoch 81/300\n",
      "55/55 [==============================] - 0s 3ms/step - loss: 39.9621\n",
      "Epoch 82/300\n",
      "55/55 [==============================] - 0s 3ms/step - loss: 39.9344\n",
      "Epoch 83/300\n",
      "55/55 [==============================] - 0s 3ms/step - loss: 41.6880\n",
      "Epoch 84/300\n",
      "55/55 [==============================] - 0s 3ms/step - loss: 38.3890\n",
      "Epoch 85/300\n",
      "55/55 [==============================] - 0s 3ms/step - loss: 31.8887\n",
      "Epoch 86/300\n",
      "55/55 [==============================] - 0s 3ms/step - loss: 35.9880\n",
      "Epoch 87/300\n",
      "55/55 [==============================] - 0s 3ms/step - loss: 40.6584\n",
      "Epoch 88/300\n",
      "55/55 [==============================] - 0s 3ms/step - loss: 36.2762\n",
      "Epoch 89/300\n",
      "55/55 [==============================] - 0s 3ms/step - loss: 39.3741\n",
      "Epoch 90/300\n",
      "55/55 [==============================] - 0s 3ms/step - loss: 42.0830\n",
      "Epoch 91/300\n",
      "55/55 [==============================] - 0s 3ms/step - loss: 41.4736\n",
      "Epoch 92/300\n",
      "55/55 [==============================] - 0s 3ms/step - loss: 41.2785\n",
      "Epoch 93/300\n",
      "55/55 [==============================] - 0s 3ms/step - loss: 41.2592\n",
      "Epoch 94/300\n",
      "55/55 [==============================] - 0s 3ms/step - loss: 40.9845\n",
      "Epoch 95/300\n",
      "55/55 [==============================] - 0s 3ms/step - loss: 31.4169\n",
      "Epoch 96/300\n",
      "55/55 [==============================] - 0s 3ms/step - loss: 48.2940\n",
      "Epoch 97/300\n",
      "55/55 [==============================] - 0s 3ms/step - loss: 41.8344\n",
      "Epoch 98/300\n",
      "55/55 [==============================] - 0s 3ms/step - loss: 41.2037\n",
      "Epoch 99/300\n",
      "55/55 [==============================] - 0s 3ms/step - loss: 40.7094\n",
      "Epoch 100/300\n",
      "55/55 [==============================] - 0s 3ms/step - loss: 45.0843\n",
      "Epoch 101/300\n"
     ]
    },
    {
     "name": "stdout",
     "output_type": "stream",
     "text": [
      "55/55 [==============================] - 0s 3ms/step - loss: 40.8069\n",
      "Epoch 102/300\n",
      "55/55 [==============================] - 0s 3ms/step - loss: 34.3410\n",
      "Epoch 103/300\n",
      "55/55 [==============================] - 0s 3ms/step - loss: 31.9040\n",
      "Epoch 104/300\n",
      "55/55 [==============================] - 0s 3ms/step - loss: 38.1657\n",
      "Epoch 105/300\n",
      "55/55 [==============================] - 0s 3ms/step - loss: 39.9579\n",
      "Epoch 106/300\n",
      "55/55 [==============================] - 0s 3ms/step - loss: 36.9890\n",
      "Epoch 107/300\n",
      "55/55 [==============================] - 0s 3ms/step - loss: 41.2446\n",
      "Epoch 108/300\n",
      "55/55 [==============================] - 0s 3ms/step - loss: 36.3350\n",
      "Epoch 109/300\n",
      "55/55 [==============================] - 0s 3ms/step - loss: 34.1813\n",
      "Epoch 110/300\n",
      "55/55 [==============================] - 0s 3ms/step - loss: 38.4220\n",
      "Epoch 111/300\n",
      "55/55 [==============================] - 0s 3ms/step - loss: 37.5321\n",
      "Epoch 112/300\n",
      "55/55 [==============================] - 0s 3ms/step - loss: 34.0020\n",
      "Epoch 113/300\n",
      "55/55 [==============================] - 0s 3ms/step - loss: 40.0809\n",
      "Epoch 114/300\n",
      "55/55 [==============================] - 0s 3ms/step - loss: 33.4986\n",
      "Epoch 115/300\n",
      "55/55 [==============================] - 0s 3ms/step - loss: 42.5274\n",
      "Epoch 116/300\n",
      "55/55 [==============================] - 0s 3ms/step - loss: 33.0652\n",
      "Epoch 117/300\n",
      "55/55 [==============================] - 0s 3ms/step - loss: 36.8605\n",
      "Epoch 118/300\n",
      "55/55 [==============================] - 0s 3ms/step - loss: 37.5985\n",
      "Epoch 119/300\n",
      "55/55 [==============================] - 0s 3ms/step - loss: 32.5285\n",
      "Epoch 120/300\n",
      "55/55 [==============================] - 0s 3ms/step - loss: 39.8284\n",
      "Epoch 121/300\n",
      "55/55 [==============================] - 0s 3ms/step - loss: 33.0012\n",
      "Epoch 122/300\n",
      "55/55 [==============================] - 0s 3ms/step - loss: 33.5835\n",
      "Epoch 123/300\n",
      "55/55 [==============================] - 0s 3ms/step - loss: 41.5296\n",
      "Epoch 124/300\n",
      "55/55 [==============================] - 0s 3ms/step - loss: 31.9513\n",
      "Epoch 125/300\n",
      "55/55 [==============================] - 0s 3ms/step - loss: 36.5284\n",
      "Epoch 126/300\n",
      "55/55 [==============================] - 0s 3ms/step - loss: 40.9502\n",
      "Epoch 127/300\n",
      "55/55 [==============================] - 0s 3ms/step - loss: 36.9802\n",
      "Epoch 128/300\n",
      "55/55 [==============================] - 0s 3ms/step - loss: 29.5736\n",
      "Epoch 129/300\n",
      "55/55 [==============================] - 0s 3ms/step - loss: 40.8722\n",
      "Epoch 130/300\n",
      "55/55 [==============================] - 0s 3ms/step - loss: 38.4454\n",
      "Epoch 131/300\n",
      "55/55 [==============================] - 0s 3ms/step - loss: 34.0594\n",
      "Epoch 132/300\n",
      "55/55 [==============================] - 0s 3ms/step - loss: 35.0573\n",
      "Epoch 133/300\n",
      "55/55 [==============================] - 0s 3ms/step - loss: 37.6695\n",
      "Epoch 134/300\n",
      "55/55 [==============================] - 0s 3ms/step - loss: 35.6722\n",
      "Epoch 135/300\n",
      "55/55 [==============================] - 0s 3ms/step - loss: 37.6524\n",
      "Epoch 136/300\n",
      "55/55 [==============================] - 0s 3ms/step - loss: 39.4697\n",
      "Epoch 137/300\n",
      "55/55 [==============================] - 0s 3ms/step - loss: 36.1589\n",
      "Epoch 138/300\n",
      "55/55 [==============================] - 0s 3ms/step - loss: 38.9221\n",
      "Epoch 139/300\n",
      "55/55 [==============================] - 0s 3ms/step - loss: 34.7893\n",
      "Epoch 140/300\n",
      "55/55 [==============================] - 0s 3ms/step - loss: 33.6014\n",
      "Epoch 141/300\n",
      "55/55 [==============================] - 0s 3ms/step - loss: 36.1347\n",
      "Epoch 142/300\n",
      "55/55 [==============================] - 0s 3ms/step - loss: 36.3295\n",
      "Epoch 143/300\n",
      "55/55 [==============================] - 0s 3ms/step - loss: 32.2705\n",
      "Epoch 144/300\n",
      "55/55 [==============================] - 0s 3ms/step - loss: 43.2328\n",
      "Epoch 145/300\n",
      "55/55 [==============================] - 0s 3ms/step - loss: 34.6123\n",
      "Epoch 146/300\n",
      "55/55 [==============================] - 0s 3ms/step - loss: 32.9343\n",
      "Epoch 147/300\n",
      "55/55 [==============================] - 0s 3ms/step - loss: 44.1369\n",
      "Epoch 148/300\n",
      "55/55 [==============================] - 0s 3ms/step - loss: 37.3367\n",
      "Epoch 149/300\n",
      "55/55 [==============================] - 0s 3ms/step - loss: 30.7849\n",
      "Epoch 150/300\n",
      "55/55 [==============================] - 0s 3ms/step - loss: 27.4585\n",
      "Epoch 151/300\n",
      "55/55 [==============================] - 0s 3ms/step - loss: 39.4964\n",
      "Epoch 152/300\n",
      "55/55 [==============================] - 0s 3ms/step - loss: 37.3262\n",
      "Epoch 153/300\n",
      "55/55 [==============================] - 0s 3ms/step - loss: 29.5552\n",
      "Epoch 154/300\n",
      "55/55 [==============================] - 0s 3ms/step - loss: 39.2269\n",
      "Epoch 155/300\n",
      "55/55 [==============================] - 0s 3ms/step - loss: 32.0617\n",
      "Epoch 156/300\n",
      "55/55 [==============================] - 0s 3ms/step - loss: 30.3121\n",
      "Epoch 157/300\n",
      "55/55 [==============================] - 0s 3ms/step - loss: 38.6194\n",
      "Epoch 158/300\n",
      "55/55 [==============================] - 0s 3ms/step - loss: 42.4542\n",
      "Epoch 159/300\n",
      "55/55 [==============================] - 0s 3ms/step - loss: 36.5867\n",
      "Epoch 160/300\n",
      "55/55 [==============================] - 0s 3ms/step - loss: 31.2971\n",
      "Epoch 161/300\n",
      "55/55 [==============================] - 0s 3ms/step - loss: 38.2314\n",
      "Epoch 162/300\n",
      "55/55 [==============================] - 0s 3ms/step - loss: 34.2558\n",
      "Epoch 163/300\n",
      "55/55 [==============================] - 0s 3ms/step - loss: 33.2877\n",
      "Epoch 164/300\n",
      "55/55 [==============================] - 0s 3ms/step - loss: 37.5438\n",
      "Epoch 165/300\n",
      "55/55 [==============================] - 0s 3ms/step - loss: 33.1068\n",
      "Epoch 166/300\n",
      "55/55 [==============================] - 0s 3ms/step - loss: 29.4953\n",
      "Epoch 167/300\n",
      "55/55 [==============================] - 0s 3ms/step - loss: 35.9575\n",
      "Epoch 168/300\n",
      "55/55 [==============================] - 0s 3ms/step - loss: 30.1873\n",
      "Epoch 169/300\n",
      "55/55 [==============================] - 0s 3ms/step - loss: 36.3502\n",
      "Epoch 170/300\n",
      "55/55 [==============================] - 0s 3ms/step - loss: 35.7807\n",
      "Epoch 171/300\n",
      "55/55 [==============================] - 0s 3ms/step - loss: 36.7996\n",
      "Epoch 172/300\n",
      "55/55 [==============================] - 0s 3ms/step - loss: 31.9431\n",
      "Epoch 173/300\n",
      "55/55 [==============================] - 0s 3ms/step - loss: 31.5131\n",
      "Epoch 174/300\n",
      "55/55 [==============================] - 0s 3ms/step - loss: 36.9380\n",
      "Epoch 175/300\n",
      "55/55 [==============================] - 0s 3ms/step - loss: 38.6379\n",
      "Epoch 176/300\n",
      "55/55 [==============================] - 0s 3ms/step - loss: 30.6158\n",
      "Epoch 177/300\n",
      "55/55 [==============================] - 0s 3ms/step - loss: 37.6213\n",
      "Epoch 178/300\n",
      "55/55 [==============================] - 0s 3ms/step - loss: 39.1356\n",
      "Epoch 179/300\n",
      "55/55 [==============================] - 0s 3ms/step - loss: 34.3511\n",
      "Epoch 180/300\n",
      "55/55 [==============================] - 0s 3ms/step - loss: 37.8380\n",
      "Epoch 181/300\n",
      "55/55 [==============================] - 0s 3ms/step - loss: 29.2325\n",
      "Epoch 182/300\n",
      "55/55 [==============================] - 0s 3ms/step - loss: 29.8110\n",
      "Epoch 183/300\n",
      "55/55 [==============================] - 0s 3ms/step - loss: 27.9907\n",
      "Epoch 184/300\n",
      "55/55 [==============================] - 0s 3ms/step - loss: 36.2719\n",
      "Epoch 185/300\n",
      "55/55 [==============================] - 0s 3ms/step - loss: 41.1218\n",
      "Epoch 186/300\n",
      "55/55 [==============================] - 0s 3ms/step - loss: 32.5478\n",
      "Epoch 187/300\n",
      "55/55 [==============================] - 0s 3ms/step - loss: 30.3791\n",
      "Epoch 188/300\n",
      "55/55 [==============================] - 0s 3ms/step - loss: 32.9791\n",
      "Epoch 189/300\n",
      "55/55 [==============================] - 0s 3ms/step - loss: 36.2313\n",
      "Epoch 190/300\n",
      "55/55 [==============================] - 0s 3ms/step - loss: 30.8801\n",
      "Epoch 191/300\n",
      "55/55 [==============================] - 0s 3ms/step - loss: 31.9926\n",
      "Epoch 192/300\n",
      "55/55 [==============================] - 0s 3ms/step - loss: 29.6678\n",
      "Epoch 193/300\n",
      "55/55 [==============================] - 0s 3ms/step - loss: 28.5961\n",
      "Epoch 194/300\n",
      "55/55 [==============================] - 0s 3ms/step - loss: 34.8215\n",
      "Epoch 195/300\n",
      "55/55 [==============================] - 0s 3ms/step - loss: 36.3091\n",
      "Epoch 196/300\n",
      "55/55 [==============================] - 0s 3ms/step - loss: 34.2135\n",
      "Epoch 197/300\n",
      "55/55 [==============================] - 0s 3ms/step - loss: 33.1240\n",
      "Epoch 198/300\n",
      "55/55 [==============================] - 0s 3ms/step - loss: 33.8628\n",
      "Epoch 199/300\n"
     ]
    },
    {
     "name": "stdout",
     "output_type": "stream",
     "text": [
      "55/55 [==============================] - 0s 3ms/step - loss: 38.7410\n",
      "Epoch 200/300\n",
      "55/55 [==============================] - 0s 3ms/step - loss: 34.8297\n",
      "Epoch 201/300\n",
      "55/55 [==============================] - 0s 3ms/step - loss: 32.4504\n",
      "Epoch 202/300\n",
      "55/55 [==============================] - 0s 3ms/step - loss: 34.8342\n",
      "Epoch 203/300\n",
      "55/55 [==============================] - 0s 3ms/step - loss: 32.5017\n",
      "Epoch 204/300\n",
      "55/55 [==============================] - 0s 3ms/step - loss: 29.9889\n",
      "Epoch 205/300\n",
      "55/55 [==============================] - 0s 3ms/step - loss: 36.8665\n",
      "Epoch 206/300\n",
      "55/55 [==============================] - 0s 3ms/step - loss: 31.8956\n",
      "Epoch 207/300\n",
      "55/55 [==============================] - 0s 3ms/step - loss: 32.8860\n",
      "Epoch 208/300\n",
      "55/55 [==============================] - 0s 3ms/step - loss: 27.9676\n",
      "Epoch 209/300\n",
      "55/55 [==============================] - 0s 3ms/step - loss: 32.9496\n",
      "Epoch 210/300\n",
      "55/55 [==============================] - 0s 3ms/step - loss: 38.2603\n",
      "Epoch 211/300\n",
      "55/55 [==============================] - 0s 3ms/step - loss: 32.0448\n",
      "Epoch 212/300\n",
      "55/55 [==============================] - 0s 3ms/step - loss: 37.0093\n",
      "Epoch 213/300\n",
      "55/55 [==============================] - 0s 3ms/step - loss: 32.3975\n",
      "Epoch 214/300\n",
      "55/55 [==============================] - 0s 3ms/step - loss: 29.5612\n",
      "Epoch 215/300\n",
      "55/55 [==============================] - 0s 3ms/step - loss: 27.0978\n",
      "Epoch 216/300\n",
      "55/55 [==============================] - 0s 3ms/step - loss: 29.4568\n",
      "Epoch 217/300\n",
      "55/55 [==============================] - 0s 3ms/step - loss: 30.4765\n",
      "Epoch 218/300\n",
      "55/55 [==============================] - 0s 3ms/step - loss: 33.5067\n",
      "Epoch 219/300\n",
      "55/55 [==============================] - 0s 3ms/step - loss: 39.1893\n",
      "Epoch 220/300\n",
      "55/55 [==============================] - 0s 3ms/step - loss: 33.5467\n",
      "Epoch 221/300\n",
      "55/55 [==============================] - 0s 3ms/step - loss: 35.2374\n",
      "Epoch 222/300\n",
      "55/55 [==============================] - 0s 3ms/step - loss: 35.9942\n",
      "Epoch 223/300\n",
      "55/55 [==============================] - 0s 3ms/step - loss: 35.7707\n",
      "Epoch 224/300\n",
      "55/55 [==============================] - 0s 3ms/step - loss: 36.5980\n",
      "Epoch 225/300\n",
      "55/55 [==============================] - 0s 3ms/step - loss: 30.5079\n",
      "Epoch 226/300\n",
      "55/55 [==============================] - 0s 3ms/step - loss: 36.0263\n",
      "Epoch 227/300\n",
      "55/55 [==============================] - 0s 3ms/step - loss: 29.2938\n",
      "Epoch 228/300\n",
      "55/55 [==============================] - 0s 3ms/step - loss: 34.8157\n",
      "Epoch 229/300\n",
      "55/55 [==============================] - 0s 3ms/step - loss: 28.6758\n",
      "Epoch 230/300\n",
      "55/55 [==============================] - 0s 3ms/step - loss: 35.5131\n",
      "Epoch 231/300\n",
      "55/55 [==============================] - 0s 3ms/step - loss: 32.4754\n",
      "Epoch 232/300\n",
      "55/55 [==============================] - 0s 3ms/step - loss: 31.1453\n",
      "Epoch 233/300\n",
      "55/55 [==============================] - 0s 3ms/step - loss: 27.0764\n",
      "Epoch 234/300\n",
      "55/55 [==============================] - 0s 3ms/step - loss: 33.1222\n",
      "Epoch 235/300\n",
      "55/55 [==============================] - 0s 3ms/step - loss: 33.8276\n",
      "Epoch 236/300\n",
      "55/55 [==============================] - 0s 3ms/step - loss: 28.6686\n",
      "Epoch 237/300\n",
      "55/55 [==============================] - 0s 3ms/step - loss: 33.8941\n",
      "Epoch 238/300\n",
      "55/55 [==============================] - 0s 3ms/step - loss: 26.0877\n",
      "Epoch 239/300\n",
      "55/55 [==============================] - 0s 3ms/step - loss: 28.6970\n",
      "Epoch 240/300\n",
      "55/55 [==============================] - 0s 3ms/step - loss: 37.8309\n",
      "Epoch 241/300\n",
      "55/55 [==============================] - 0s 3ms/step - loss: 31.1675\n",
      "Epoch 242/300\n",
      "55/55 [==============================] - 0s 3ms/step - loss: 31.6038\n",
      "Epoch 243/300\n",
      "55/55 [==============================] - 0s 3ms/step - loss: 32.6852\n",
      "Epoch 244/300\n",
      "55/55 [==============================] - 0s 3ms/step - loss: 28.2906\n",
      "Epoch 245/300\n",
      "55/55 [==============================] - 0s 3ms/step - loss: 27.2186\n",
      "Epoch 246/300\n",
      "55/55 [==============================] - 0s 3ms/step - loss: 34.7866\n",
      "Epoch 247/300\n",
      "55/55 [==============================] - 0s 3ms/step - loss: 35.1024\n",
      "Epoch 248/300\n",
      "55/55 [==============================] - 0s 3ms/step - loss: 34.3591\n",
      "Epoch 249/300\n",
      "55/55 [==============================] - 0s 3ms/step - loss: 32.6841\n",
      "Epoch 250/300\n",
      "55/55 [==============================] - 0s 3ms/step - loss: 33.6132\n",
      "Epoch 251/300\n",
      "55/55 [==============================] - 0s 3ms/step - loss: 28.2322\n",
      "Epoch 252/300\n",
      "55/55 [==============================] - 0s 3ms/step - loss: 34.0202\n",
      "Epoch 253/300\n",
      "55/55 [==============================] - 0s 3ms/step - loss: 27.5133\n",
      "Epoch 254/300\n",
      "55/55 [==============================] - 0s 3ms/step - loss: 32.9308\n",
      "Epoch 255/300\n",
      "55/55 [==============================] - 0s 3ms/step - loss: 31.2943\n",
      "Epoch 256/300\n",
      "55/55 [==============================] - 0s 3ms/step - loss: 34.8615\n",
      "Epoch 257/300\n",
      "55/55 [==============================] - 0s 3ms/step - loss: 26.8189\n",
      "Epoch 258/300\n",
      "55/55 [==============================] - 0s 3ms/step - loss: 26.7869\n",
      "Epoch 259/300\n",
      "55/55 [==============================] - 0s 3ms/step - loss: 30.6243\n",
      "Epoch 260/300\n",
      "55/55 [==============================] - 0s 3ms/step - loss: 30.5563\n",
      "Epoch 261/300\n",
      "55/55 [==============================] - 0s 3ms/step - loss: 31.5979\n",
      "Epoch 262/300\n",
      "55/55 [==============================] - 0s 3ms/step - loss: 30.5047\n",
      "Epoch 263/300\n",
      "55/55 [==============================] - 0s 3ms/step - loss: 27.6584\n",
      "Epoch 264/300\n",
      "55/55 [==============================] - 0s 3ms/step - loss: 29.6270\n",
      "Epoch 265/300\n",
      "55/55 [==============================] - 0s 3ms/step - loss: 35.1881\n",
      "Epoch 266/300\n",
      "55/55 [==============================] - 0s 3ms/step - loss: 26.5419\n",
      "Epoch 267/300\n",
      "55/55 [==============================] - 0s 3ms/step - loss: 33.5331\n",
      "Epoch 268/300\n",
      "55/55 [==============================] - 0s 3ms/step - loss: 23.3950\n",
      "Epoch 269/300\n",
      "55/55 [==============================] - 0s 3ms/step - loss: 29.2600\n",
      "Epoch 270/300\n",
      "55/55 [==============================] - 0s 3ms/step - loss: 33.8200\n",
      "Epoch 271/300\n",
      "55/55 [==============================] - 0s 3ms/step - loss: 25.3531\n",
      "Epoch 272/300\n",
      "55/55 [==============================] - 0s 3ms/step - loss: 29.1167\n",
      "Epoch 273/300\n",
      "55/55 [==============================] - 0s 3ms/step - loss: 29.8392\n",
      "Epoch 274/300\n",
      "55/55 [==============================] - 0s 3ms/step - loss: 28.2828\n",
      "Epoch 275/300\n",
      "55/55 [==============================] - 0s 3ms/step - loss: 30.5726\n",
      "Epoch 276/300\n",
      "55/55 [==============================] - 0s 3ms/step - loss: 30.4426\n",
      "Epoch 277/300\n",
      "55/55 [==============================] - 0s 3ms/step - loss: 28.2698\n",
      "Epoch 278/300\n",
      "55/55 [==============================] - 0s 3ms/step - loss: 27.3524\n",
      "Epoch 279/300\n",
      "55/55 [==============================] - 0s 3ms/step - loss: 33.7541\n",
      "Epoch 280/300\n",
      "55/55 [==============================] - 0s 3ms/step - loss: 31.6944\n",
      "Epoch 281/300\n",
      "55/55 [==============================] - 0s 3ms/step - loss: 29.9533\n",
      "Epoch 282/300\n",
      "55/55 [==============================] - 0s 3ms/step - loss: 27.8359\n",
      "Epoch 283/300\n",
      "55/55 [==============================] - 0s 3ms/step - loss: 28.4795\n",
      "Epoch 284/300\n",
      "55/55 [==============================] - 0s 3ms/step - loss: 28.4947\n",
      "Epoch 285/300\n",
      "55/55 [==============================] - 0s 3ms/step - loss: 31.1070\n",
      "Epoch 286/300\n",
      "55/55 [==============================] - 0s 3ms/step - loss: 35.4024\n",
      "Epoch 287/300\n",
      "55/55 [==============================] - 0s 3ms/step - loss: 28.7271\n",
      "Epoch 288/300\n",
      "55/55 [==============================] - 0s 3ms/step - loss: 33.2482\n",
      "Epoch 289/300\n",
      "55/55 [==============================] - 0s 3ms/step - loss: 31.9742\n",
      "Epoch 290/300\n",
      "55/55 [==============================] - 0s 3ms/step - loss: 31.3146\n",
      "Epoch 291/300\n",
      "55/55 [==============================] - 0s 3ms/step - loss: 29.3313\n",
      "Epoch 292/300\n",
      "55/55 [==============================] - 0s 3ms/step - loss: 27.1919\n",
      "Epoch 293/300\n",
      "55/55 [==============================] - 0s 3ms/step - loss: 34.3183\n",
      "Epoch 294/300\n",
      "55/55 [==============================] - 0s 3ms/step - loss: 31.7105\n",
      "Epoch 295/300\n",
      "55/55 [==============================] - 0s 3ms/step - loss: 33.8572\n",
      "Epoch 296/300\n",
      "55/55 [==============================] - 0s 3ms/step - loss: 31.1814\n",
      "Epoch 297/300\n"
     ]
    },
    {
     "name": "stdout",
     "output_type": "stream",
     "text": [
      "55/55 [==============================] - 0s 3ms/step - loss: 27.0296\n",
      "Epoch 298/300\n",
      "55/55 [==============================] - 0s 3ms/step - loss: 30.9979\n",
      "Epoch 299/300\n",
      "55/55 [==============================] - 0s 3ms/step - loss: 30.5631\n",
      "Epoch 300/300\n",
      "55/55 [==============================] - 0s 3ms/step - loss: 32.6549\n"
     ]
    }
   ],
   "source": [
    "from keras.models import Sequential\n",
    "from keras.layers import Dense\n",
    "from keras.layers import LSTM\n",
    "from keras.layers import Dropout\n",
    "\n",
    "neurons = 10\n",
    "epochs = 300\n",
    "hidden_layers = 3\n",
    "\n",
    "def build_model(number_hidden_layers, number_neurons, number_epochs):\n",
    "    # Sequential = recurrent\n",
    "    model = Sequential()\n",
    "\n",
    "    # adding hidden LSTM layers as specified in parameter\n",
    "    for i in range(1, number_hidden_layers + 1):\n",
    "        if i == number_hidden_layers and number_hidden_layers == 1:\n",
    "            model.add(LSTM(units=number_neurons, return_sequences=False, input_shape=\n",
    "            (X_train.shape[1], X_train.shape[2])))\n",
    "            model.add(Dropout(0.2))\n",
    "        elif i == 1:\n",
    "            model.add(LSTM(units=number_neurons, return_sequences=True, input_shape=\n",
    "            (X_train.shape[1], X_train.shape[2])))\n",
    "            model.add(Dropout(0.2))\n",
    "        elif i == number_hidden_layers:\n",
    "            model.add(LSTM(units=number_neurons, return_sequences=False))\n",
    "            model.add(Dropout(0.2))\n",
    "        else:\n",
    "            model.add(LSTM(units=number_neurons, return_sequences=True))\n",
    "            model.add(Dropout(0.2))\n",
    "\n",
    "    # output layer\n",
    "    model.add(Dense(units=1))\n",
    "\n",
    "    # compiling and training\n",
    "    model.compile(optimizer=\"adam\", loss=\"mean_absolute_percentage_error\")\n",
    "    model.fit(X_train, y_train, epochs=number_epochs, batch_size=1)\n",
    "\n",
    "    return model\n",
    "\n",
    "model = build_model(hidden_layers, neurons, epochs)"
   ]
  },
  {
   "cell_type": "markdown",
   "metadata": {
    "pycharm": {
     "name": "#%% md\n"
    }
   },
   "source": [
    "Das letzte Layer muss immer den Parameter return_sequences=false gesetzt haben, damit wir am Ende auch die Vorhersage für einen Tag bekommen und\n",
    "nicht wieder eine Sequenz. Bei dem ersten Layer, muss die input shape als\n",
    "Parameter mitgegeben werden.\n",
    "\n",
    "Die batch_size, welche als Parameter model.fit übergeben wird, ist nicht zu verwechseln mit der batch_size der Samplegröße (Anzahl der timesteps je sample). Die batch_size\n",
    "bei model.fit gibt an, wie häufig der Gradient in einer Epoche berechnet wird, also nach wie vielen Samples\n",
    "das Netz korrigiert wird. Es wurde eine batch_size von 1 gewählt, da diese durch die Test und Trainingsmenge teilbar sein muss.\n",
    "Das führt zwar dazu, dass der Gradient unpräziser wird und mehr hin und her \"springt\", macht das Training des Netzes aber\n",
    "auch schneller und effizienter (vgl. https://machinelearningmastery.com/time-series-forecasting-long-short-term-memory-network-python/). Es kann somit zwischen einzelnen Trainings zu stärkeren Abweichungen in den metrics kommen, weswegen\n",
    "die Modelle auch je 30 mal trainiert wurden, um dann einen Durchschnitt zu finden. Wenn also das Ergebnis der Metrics weiter unten stark abweicht vom erwarteten,\n",
    "könnte man das Netz erneut trainieren und prüfen, ob das Ergebnis besser wird.\n",
    "\n",
    "#### Evaluation des Netzes\n",
    "\n",
    "Da wir nun ein trainiertes Modell haben, können wir es mit den Testdaten evaluieren. Hierfür müssen wir zuerst die\n",
    "Testdaten vorbereiten, ähnlich wie wir es mit den Trainingsdaten gemacht haben.\n",
    "\n",
    "Es wird ein Array aus dem DataFrame gebaut, welches ab dem test_threshold(60) abzüglich der batch_size(5) startet. Also in diesem\n",
    "Fall 60-5 = 55 -> Das Array besteht also aus den letzten 34 Werten (df[55:]). Die batch_size wird abgezogen,\n",
    "da die ersten Werte entsprechend der batch_size ja nicht vorhergesagt werden. Das trainierte Modell kennt diese Werte zwar,\n",
    "da diese die letzten Werte des Trainingsdatensatzes darstellen, weiß aber nicht was darauf folgt. Es hat also keine labels zu\n",
    "den Testdaten gesehen. Wir sagen also mit einem input von 34 Werten nur 29 (Länge des Testdatensatzes) vorraus.\n"
   ]
  },
  {
   "cell_type": "code",
   "execution_count": 7,
   "metadata": {
    "pycharm": {
     "name": "#%%\n"
    }
   },
   "outputs": [],
   "source": [
    "inputs = df.iloc[:, 4:5]\n",
    "inputs = inputs[len(inputs) - len(test_data) - batch_size:].values\n",
    "inputs = inputs.reshape(-1, 1)\n",
    "inputs = normalizer.transform(inputs)\n",
    "\n",
    "X_test = []\n",
    "for i in range(batch_size, len(inputs)):\n",
    "    X_test.append(inputs[i - batch_size:i, 0])\n",
    "X_test = np.array(X_test)\n",
    "X_test = np.reshape(X_test, (X_test.shape[0], X_test.shape[1], 1))"
   ]
  },
  {
   "cell_type": "markdown",
   "metadata": {},
   "source": [
    "Da wir nun die Test-Inputs vorbereitet haben, können wir Vorhersagen machen und diese mit den wahren Werten vergleichen. Vorher müssen wir diese natürlich\n",
    "in ihre ursprüngliche Form wieder retransformieren."
   ]
  },
  {
   "cell_type": "code",
   "execution_count": 8,
   "metadata": {
    "pycharm": {
     "name": "#%%\n"
    }
   },
   "outputs": [
    {
     "name": "stdout",
     "output_type": "stream",
     "text": [
      "Timestep=1, Predicted=185.124786, Actual=189.820007\n",
      "Timestep=2, Predicted=174.961105, Actual=191.449997\n",
      "Timestep=3, Predicted=183.176331, Actual=186.949997\n",
      "Timestep=4, Predicted=174.326599, Actual=184.500000\n",
      "Timestep=5, Predicted=175.774384, Actual=177.970001\n",
      "Timestep=6, Predicted=168.331421, Actual=170.259995\n",
      "Timestep=7, Predicted=163.183426, Actual=158.360001\n",
      "Timestep=8, Predicted=151.563843, Actual=141.089996\n",
      "Timestep=9, Predicted=134.829575, Actual=140.990005\n",
      "Timestep=10, Predicted=138.921844, Actual=166.529999\n",
      "Timestep=11, Predicted=166.105911, Actual=156.440002\n",
      "Timestep=12, Predicted=146.978973, Actual=154.690002\n",
      "Timestep=13, Predicted=153.415955, Actual=164.369995\n",
      "Timestep=14, Predicted=162.058075, Actual=158.529999\n",
      "Timestep=15, Predicted=152.533264, Actual=158.509995\n",
      "Timestep=16, Predicted=156.708588, Actual=151.169998\n",
      "Timestep=17, Predicted=146.148590, Actual=151.179993\n",
      "Timestep=18, Predicted=149.494232, Actual=168.929993\n",
      "Timestep=19, Predicted=167.821030, Actual=177.770004\n",
      "Timestep=20, Predicted=171.590729, Actual=178.580002\n",
      "Timestep=21, Predicted=172.378311, Actual=176.190002\n",
      "Timestep=22, Predicted=169.738632, Actual=173.589996\n",
      "Timestep=23, Predicted=167.242783, Actual=162.199997\n",
      "Timestep=24, Predicted=154.785339, Actual=160.729996\n",
      "Timestep=25, Predicted=157.647873, Actual=159.479996\n",
      "Timestep=26, Predicted=155.023026, Actual=161.009995\n",
      "Timestep=27, Predicted=158.268738, Actual=161.110001\n",
      "Timestep=28, Predicted=157.616135, Actual=143.220001\n",
      "Timestep=29, Predicted=136.214264, Actual=146.919998\n"
     ]
    }
   ],
   "source": [
    "predicted_stock_price = model.predict(X_test)\n",
    "\n",
    "predicted_stock_price = normalizer.inverse_transform(predicted_stock_price)\n",
    "\n",
    "for i in range(len(predicted_stock_price)):\n",
    "    print(\"Timestep=%d, Predicted=%f, Actual=%f\" % (i+1, predicted_stock_price[i], test_data[i]))"
   ]
  },
  {
   "cell_type": "markdown",
   "metadata": {},
   "source": [
    "In der Tabellenform sehen die Abweichungen recht passabel aus. Wir stellen\n",
    "sie nun in einem Plot dar, für einen besseren Überblick:"
   ]
  },
  {
   "cell_type": "code",
   "execution_count": 9,
   "metadata": {
    "pycharm": {
     "name": "#%%\n"
    }
   },
   "outputs": [
    {
     "data": {
      "image/png": "[encoded data removed]",
      "text/plain": [
       "<Figure size 432x288 with 1 Axes>"
      ]
     },
     "metadata": {
      "needs_background": "light"
     },
     "output_type": "display_data"
    }
   ],
   "source": [
    "from matplotlib import pyplot\n",
    "\n",
    "pyplot.plot(test_data, label=\"Echte Kursdaten\")\n",
    "pyplot.plot(predicted_stock_price, label=\"Predictions\")\n",
    "pyplot.legend()\n",
    "pyplot.show()\n"
   ]
  },
  {
   "cell_type": "markdown",
   "metadata": {
    "pycharm": {
     "name": "#%% md\n"
    }
   },
   "source": [
    "Anhand des Plots kann man erkennen, dass das Modell anscheinend\n",
    "dem Trends des Kurses gut, wenn auch etwas zeitverzögert, folgen kann.\n",
    "\n",
    "Schauen wir uns nun noch die bereits im Word-Dokument definierten Metrics zum Vergleich an. Die metric\n",
    "mean-directional-accuracy (MDA) zeigt an, wie oft das Modell die Richtung des Kurses am nächsten Tag vorhersagen konnte, also\n",
    "ob er steigt oder sinkt. Leider hat sci-kit learn hierfür keine Implementation, weswegen\n",
    "wir die metric noch einmal hier als Funktion einfügen müssen."
   ]
  },
  {
   "cell_type": "code",
   "execution_count": 10,
   "metadata": {
    "pycharm": {
     "name": "#%%\n"
    }
   },
   "outputs": [
    {
     "name": "stdout",
     "output_type": "stream",
     "text": [
      "MAE: 7.845301177768049\n",
      "MAPE: 4.806640981384525\n",
      "MDA 60.71428571428571\n"
     ]
    }
   ],
   "source": [
    "def mda(actual: np.ndarray, predicted: np.ndarray):\n",
    "    \"\"\" Mean Directional Accuracy \"\"\"\n",
    "    return np.mean((np.sign(actual[1:] - actual[:-1]) == np.sign(predicted[1:] - predicted[:-1])).astype(int))\n",
    "\n",
    "from sklearn import metrics\n",
    "# Metrics\n",
    "print(\"MAE:\", metrics.mean_absolute_error(test_data, predicted_stock_price))\n",
    "print(\"MAPE:\", metrics.mean_absolute_percentage_error(test_data, predicted_stock_price) * 100)\n",
    "print(\"MDA\", mda(test_data, predicted_stock_price) * 100)"
   ]
  },
  {
   "cell_type": "markdown",
   "metadata": {},
   "source": [
    "Die Ergebnisse sollten etwa in dieser Größenordnung sein, wenn man etwas Glück mit dem Gradienten hatte:\n",
    "\n",
    "MAE: 6-7\n",
    "\n",
    "MAPE: ca. 4%\n",
    "\n",
    "MDA: ca 60%\n",
    "\n",
    "Sollte das Ergebnis stark abweichen könnte man versuchen das Modell noch mal zu trainieren, da es\n",
    "aufgrund der geringen batch_size beim Aufruf von model.fit beim Training zu zufälligen Abweichungen kommen kann.\n",
    "\n",
    "Eine MDA von ca. 60% ist für die Vorhersage eines Aktienkurses sehr gut.\n",
    "Kurzfristige Entwicklungen in Aktienpreisen sind normalerweise extrem schwer vorherzusagen. Mit 60 % ist man\n",
    "10 % besser als bei einem Münzwurf, wenn man die Richtung des Kurses vorhersagen möchte.\n",
    "\n",
    "MAPE steht für den mean absolute percentage error, welcher einfach den Mean-absolute-error in Verhältnis\n",
    "zu den Größen im Datensatz setzt, wir haben also eine durchschnittliche Abweichung von ca. 4%.\n",
    "\n",
    "Schauen wir uns außerdem noch ein paar Kennzahlen des Datensatzes an, um die Metriken\n",
    "besser interpretieren zu können.\n",
    "\n",
    "Hierzu habe ich noch eine Methode geschrieben, welche die durchschnittliche Änderung von einem Kurstag zum nächsten berechnet. In diesem Fall für den Testdatensatz, um\n",
    "es mit den Abweichung unseres Modells von den wahren Werten vergleichen zu können.\n"
   ]
  },
  {
   "cell_type": "code",
   "execution_count": 11,
   "metadata": {
    "pycharm": {
     "name": "#%%\n"
    }
   },
   "outputs": [
    {
     "name": "stdout",
     "output_type": "stream",
     "text": [
      "standard deviation:  74.52908816735152\n",
      "mean: 132.42629215730335\n",
      "average price change per day test data: 8.070908666666668\n"
     ]
    }
   ],
   "source": [
    "def compute_average_change_per_timestep(data):\n",
    "\n",
    "    \"\"\"\n",
    "    Computes average change from one timestep to the other in a set of values\n",
    "    :param data: one column of values\n",
    "    :return: average change\n",
    "    \"\"\"\n",
    "    sum = 0\n",
    "    for i in range(1, len(data)):\n",
    "        sum += np.sqrt((data[i, 0] - data[i - 1, 0]) ** 2)\n",
    "    sum = sum / (len(data) - 1)\n",
    "    return sum\n",
    "\n",
    "all_close_values = df.iloc[:, 4:5].values\n",
    "\n",
    "print(\"standard deviation: \", np.std(all_close_values))\n",
    "print(\"mean:\", np.mean(all_close_values))\n",
    "\n",
    "test_close_values = df.iloc[train_threshold - batch_size:, 4:5].values\n",
    "\n",
    "print(\"average price change per day test data:\", compute_average_change_per_timestep(test_close_values))\n"
   ]
  },
  {
   "cell_type": "markdown",
   "metadata": {},
   "source": [
    "Die recht hohe Standardabweichung im Verhältnis zum mean zeigt, dass\n",
    "der Aktienkurs eine hohe Volatilität aufweist, was unseren Modellen eine genaue Prädiktion natürlich erschwert.\n",
    "\n",
    "Das wir mit unserem MAE unter dem average price change per day liegen, zeigt, dass das Modell einen gewissen Trend\n",
    "in den Daten erkannt hat und die Kursentwicklung zu einem gewissen Maße vorhersagen kann.\n"
   ]
  },
  {
   "cell_type": "markdown",
   "metadata": {},
   "source": [
    "Falls das Ergebnis des besten Netzes nicht nachstellbar gewesen sein sollte, kann man auch noch das Modell mit dem besten Ergebnis einlesen, ohne es vorher\n",
    "trainieren zu müssen und dieses evaluieren. Es sollten folgende Metrics sein:\n",
    "\n",
    "MAE: 6.516182282260237\n",
    "\n",
    "MAPE: 4.06202344316333\n",
    "\n",
    "MDA 60.71428571428571"
   ]
  },
  {
   "cell_type": "code",
   "execution_count": 12,
   "metadata": {
    "pycharm": {
     "name": "#%%\n"
    }
   },
   "outputs": [
    {
     "name": "stdout",
     "output_type": "stream",
     "text": [
      "MAE: 6.516182282260237\n",
      "MAPE: 4.06202344316333\n",
      "MDA 60.71428571428571\n"
     ]
    },
    {
     "data": {
      "image/png": "[encoded data removed]",
      "text/plain": [
       "<Figure size 432x288 with 1 Axes>"
      ]
     },
     "metadata": {
      "needs_background": "light"
     },
     "output_type": "display_data"
    }
   ],
   "source": [
    "from tensorflow import keras\n",
    "model = keras.models.load_model(\"../models/best_close_model\")\n",
    "\n",
    "predicted_stock_price = model.predict(X_test)\n",
    "predicted_stock_price = normalizer.inverse_transform(predicted_stock_price)\n",
    "\n",
    "print(\"MAE:\", metrics.mean_absolute_error(test_data, predicted_stock_price))\n",
    "print(\"MAPE:\", metrics.mean_absolute_percentage_error(test_data, predicted_stock_price) * 100)\n",
    "print(\"MDA\", mda(test_data, predicted_stock_price) * 100)\n",
    "\n",
    "pyplot.plot(test_data, label=\"Echte Kursdaten\")\n",
    "pyplot.plot(predicted_stock_price, label=\"Predictions\")\n",
    "pyplot.legend()\n",
    "pyplot.show()"
   ]
  },
  {
   "cell_type": "markdown",
   "metadata": {},
   "source": [
    "Aus meiner Sicht kann man mit den Metrics durchaus zufrieden sein, wenn man das sonst hohe Zufallsrauschen kurzfristiger Aktienentwicklungen bedenkt.\n",
    "Außerdem wurde ja bisher nur ein Feature zur Vorhersage genutzt. Schauen wir im nächsten Abschnitt, ob sich die Vorhersage mit einem 2. Feature, der Anzahl\n",
    "von Kommentaren mit GameStop Bezug im wallstreetbets-Subreddit, verbessern lässt.\n",
    "\n",
    "\n",
    "### Vorhersage mit den Kursdaten und Anzahl der Reddit-Postings als Feature\n",
    "\n",
    "#### Feature-Mapping\n",
    "\n",
    "Um die Vorhersage mit beiden Features machen zu können, wurde diese gemappt und in einer CSV gespeichert. Das Skript lässt sich im Anhang\n",
    "im src Ordner finden \"mapping_close_and_reddit_data.py\". Die gemappte CSV sieht folgendermaßen aus:\n"
   ]
  },
  {
   "cell_type": "code",
   "execution_count": 13,
   "metadata": {
    "pycharm": {
     "name": "#%%\n"
    }
   },
   "outputs": [
    {
     "name": "stdout",
     "output_type": "stream",
     "text": [
      "Anzahl der Zeilen und Spalten: (89, 4)\n"
     ]
    },
    {
     "data": {
      "text/html": [
       "<div>\n",
       "<style scoped>\n",
       "    .dataframe tbody tr th:only-of-type {\n",
       "        vertical-align: middle;\n",
       "    }\n",
       "\n",
       "    .dataframe tbody tr th {\n",
       "        vertical-align: top;\n",
       "    }\n",
       "\n",
       "    .dataframe thead th {\n",
       "        text-align: right;\n",
       "    }\n",
       "</style>\n",
       "<table border=\"1\" class=\"dataframe\">\n",
       "  <thead>\n",
       "    <tr style=\"text-align: right;\">\n",
       "      <th></th>\n",
       "      <th>Unnamed: 0</th>\n",
       "      <th>Date</th>\n",
       "      <th>Close</th>\n",
       "      <th>Anzahl</th>\n",
       "    </tr>\n",
       "  </thead>\n",
       "  <tbody>\n",
       "    <tr>\n",
       "      <th>0</th>\n",
       "      <td>0</td>\n",
       "      <td>2021-01-04</td>\n",
       "      <td>17.250000</td>\n",
       "      <td>1483</td>\n",
       "    </tr>\n",
       "    <tr>\n",
       "      <th>1</th>\n",
       "      <td>1</td>\n",
       "      <td>2021-01-05</td>\n",
       "      <td>17.370001</td>\n",
       "      <td>1144</td>\n",
       "    </tr>\n",
       "    <tr>\n",
       "      <th>2</th>\n",
       "      <td>2</td>\n",
       "      <td>2021-01-06</td>\n",
       "      <td>18.360001</td>\n",
       "      <td>1063</td>\n",
       "    </tr>\n",
       "    <tr>\n",
       "      <th>3</th>\n",
       "      <td>3</td>\n",
       "      <td>2021-01-07</td>\n",
       "      <td>18.080000</td>\n",
       "      <td>929</td>\n",
       "    </tr>\n",
       "    <tr>\n",
       "      <th>4</th>\n",
       "      <td>4</td>\n",
       "      <td>2021-01-08</td>\n",
       "      <td>17.690001</td>\n",
       "      <td>983</td>\n",
       "    </tr>\n",
       "  </tbody>\n",
       "</table>\n",
       "</div>"
      ],
      "text/plain": [
       "   Unnamed: 0        Date      Close  Anzahl\n",
       "0           0  2021-01-04  17.250000    1483\n",
       "1           1  2021-01-05  17.370001    1144\n",
       "2           2  2021-01-06  18.360001    1063\n",
       "3           3  2021-01-07  18.080000     929\n",
       "4           4  2021-01-08  17.690001     983"
      ]
     },
     "execution_count": 13,
     "metadata": {},
     "output_type": "execute_result"
    }
   ],
   "source": [
    "import pandas as pd\n",
    "df = pd.read_csv(\"../input/GME_CloseAndReddit_previous_polish_04Jan_11May.csv\")\n",
    "print(\"Anzahl der Zeilen und Spalten:\", df.shape)\n",
    "df.head(5)"
   ]
  },
  {
   "cell_type": "markdown",
   "metadata": {},
   "source": [
    "\"Close\" ist der Kurs und \"Anzahl\" die\n",
    "Anzahl der Reddit Kommentare mit GameStop Bezug am jeweiligen Tag. Es bleiben weiterhin 89 Zeitschritte, damit\n",
    "die Ergebnisse vergleichbar bleiben.\n",
    "\n",
    "Der Großteil des Codes bleibt auch bei zwei Features gleich, es wird im Folgenden\n",
    "dementsprechend nur auf Abweichungen eingegangen.\n",
    "\n",
    "#### Vorbereitung der Trainingsdaten\n",
    "\n",
    "Zunächst wieder wie oben die Einteilung in Test und Trainingsdaten, lediglich die Spalten, aus denen wir die Features ziehen, haben sich hier geändert:"
   ]
  },
  {
   "cell_type": "code",
   "execution_count": 14,
   "metadata": {
    "pycharm": {
     "name": "#%%\n"
    }
   },
   "outputs": [],
   "source": [
    "train_threshold = 60\n",
    "# read in csv and divide data into train and test\n",
    "df = pd.read_csv(\"../input/GME_CloseAndReddit_previous_polish_04Jan_11May.csv\")\n",
    "train_data = df.iloc[:train_threshold, 2:4].values\n",
    "test_data = df.iloc[train_threshold:, 2:3].values\n"
   ]
  },
  {
   "cell_type": "markdown",
   "metadata": {},
   "source": [
    "Dann wieder die Normalisierung der Daten genauso wie bei einem Feature."
   ]
  },
  {
   "cell_type": "code",
   "execution_count": 15,
   "metadata": {
    "pycharm": {
     "name": "#%%\n"
    }
   },
   "outputs": [],
   "source": [
    "# normalize data\n",
    "normalizer = MinMaxScaler(feature_range=(0, 1))\n",
    "train_data_normalized = normalizer.fit_transform(train_data)"
   ]
  },
  {
   "cell_type": "markdown",
   "metadata": {},
   "source": [
    "Nun werden die Trainingsdaten wieder in eine 3-Dimensionale Form (3-D-Numpy-Array) gebracht. Dieses besteht nun aus 50 Samples x 10 Time Steps (batch_size) x 2 Features.\n",
    "\n",
    "Interessanterweise haben bei zwei Features vollkommen andere Architekturen die besten Ergebnisse erzielt, weswegen nun pro Sample 10 Time Steps genommen werden.\n"
   ]
  },
  {
   "cell_type": "code",
   "execution_count": 16,
   "metadata": {
    "pycharm": {
     "name": "#%%\n"
    }
   },
   "outputs": [
    {
     "name": "stdout",
     "output_type": "stream",
     "text": [
      "Shape: (50, 10, 2)\n",
      "Sample 1:\n",
      " [[0.         0.01376819]\n",
      " [0.00036335 0.01026938]\n",
      " [0.00336099 0.00943338]\n",
      " [0.00251317 0.00805037]\n",
      " [0.00133229 0.0086077 ]\n",
      " [0.0081451  0.02188048]\n",
      " [0.00817538 0.00976365]\n",
      " [0.04284503 0.11233357]\n",
      " [0.06861261 0.1523377 ]\n",
      " [0.05525949 0.15392713]]\n",
      "Sample 2:\n",
      " [[0.00036335 0.01026938]\n",
      " [0.00336099 0.00943338]\n",
      " [0.00251317 0.00805037]\n",
      " [0.00133229 0.0086077 ]\n",
      " [0.0081451  0.02188048]\n",
      " [0.00817538 0.00976365]\n",
      " [0.04284503 0.11233357]\n",
      " [0.06861261 0.1523377 ]\n",
      " [0.05525949 0.15392713]\n",
      " [0.06694725 0.09770874]]\n"
     ]
    }
   ],
   "source": [
    "batch_size = 10\n",
    "# transform data for input in model\n",
    "X_train = []\n",
    "y_train = []\n",
    "for i in range(batch_size, train_threshold):\n",
    "    X_train.append(train_data_normalized[i - batch_size:i, 0:2])\n",
    "    y_train.append(train_data_normalized[i, 0:1])\n",
    "X_train = np.array(X_train)\n",
    "y_train = np.array(y_train)\n",
    "\n",
    "X_train = np.reshape(X_train, (X_train.shape[0], X_train.shape[1], 2))\n",
    "\n",
    "print(\"Shape:\", X_train.shape)\n",
    "\n",
    "print(\"Sample 1:\\n\", X_train[0])\n",
    "print(\"Sample 2:\\n\", X_train[1])"
   ]
  },
  {
   "cell_type": "markdown",
   "metadata": {},
   "source": [
    "#### Ermitteln der besten Architektur\n",
    "\n",
    "Bevor das Netz gebaut wird, werden vorher noch einmal die besten Architekturen gezeigt.\n",
    "Hierfür wurden wieder mit einem Skript ca. 30 verschiedene Architekturen 30 mal trainiert,\n",
    "um für jede Architektur einen durchschnittlichen MAE-Wert zu bekommen. Das Skript ist im Anhang unter src zu finden\n",
    "\"mass_training_model_redditAndClose.py\". Die Ergebnisse sind in der csv \"rnn_model_configs_with_MAE_closeAndReddit\" zu finden.\n",
    "\n",
    "Hier die besten 5 Ergebnisse:"
   ]
  },
  {
   "cell_type": "code",
   "execution_count": 17,
   "metadata": {
    "pycharm": {
     "name": "#%%\n"
    }
   },
   "outputs": [
    {
     "data": {
      "text/html": [
       "<div>\n",
       "<style scoped>\n",
       "    .dataframe tbody tr th:only-of-type {\n",
       "        vertical-align: middle;\n",
       "    }\n",
       "\n",
       "    .dataframe tbody tr th {\n",
       "        vertical-align: top;\n",
       "    }\n",
       "\n",
       "    .dataframe thead th {\n",
       "        text-align: right;\n",
       "    }\n",
       "</style>\n",
       "<table border=\"1\" class=\"dataframe\">\n",
       "  <thead>\n",
       "    <tr style=\"text-align: right;\">\n",
       "      <th></th>\n",
       "      <th>batch_size</th>\n",
       "      <th>neurons</th>\n",
       "      <th>layers</th>\n",
       "      <th>epochs</th>\n",
       "      <th>MAE</th>\n",
       "    </tr>\n",
       "  </thead>\n",
       "  <tbody>\n",
       "    <tr>\n",
       "      <th>0</th>\n",
       "      <td>10</td>\n",
       "      <td>10</td>\n",
       "      <td>1</td>\n",
       "      <td>100</td>\n",
       "      <td>7.786497</td>\n",
       "    </tr>\n",
       "    <tr>\n",
       "      <th>5</th>\n",
       "      <td>5</td>\n",
       "      <td>5</td>\n",
       "      <td>1</td>\n",
       "      <td>300</td>\n",
       "      <td>9.078880</td>\n",
       "    </tr>\n",
       "    <tr>\n",
       "      <th>1</th>\n",
       "      <td>10</td>\n",
       "      <td>10</td>\n",
       "      <td>1</td>\n",
       "      <td>300</td>\n",
       "      <td>9.666403</td>\n",
       "    </tr>\n",
       "    <tr>\n",
       "      <th>4</th>\n",
       "      <td>5</td>\n",
       "      <td>5</td>\n",
       "      <td>1</td>\n",
       "      <td>100</td>\n",
       "      <td>14.255390</td>\n",
       "    </tr>\n",
       "    <tr>\n",
       "      <th>20</th>\n",
       "      <td>10</td>\n",
       "      <td>10</td>\n",
       "      <td>3</td>\n",
       "      <td>100</td>\n",
       "      <td>15.725581</td>\n",
       "    </tr>\n",
       "  </tbody>\n",
       "</table>\n",
       "</div>"
      ],
      "text/plain": [
       "    batch_size   neurons   layers   epochs        MAE\n",
       "0           10        10        1      100   7.786497\n",
       "5            5         5        1      300   9.078880\n",
       "1           10        10        1      300   9.666403\n",
       "4            5         5        1      100  14.255390\n",
       "20          10        10        3      100  15.725581"
      ]
     },
     "execution_count": 17,
     "metadata": {},
     "output_type": "execute_result"
    }
   ],
   "source": [
    "import pandas as pd\n",
    "config_with_mae = pd.read_csv(\"../input/rnn_model_configs_with_MAE_closeAndReddit\")\n",
    "config_with_mae = config_with_mae.sort_values(\"MAE\", axis=0, ascending=True)\n",
    "config_with_mae.iloc[:, 1:6].head(5)"
   ]
  },
  {
   "cell_type": "markdown",
   "metadata": {},
   "source": [
    "Wie man sieht, ist das Ergebniss nun ein vollkommen anderes, als bei nur einem Feature. Bei zwei Features haben die 1-Layer Netze mit Abstand am besten\n",
    "abgeschnitten. Die multi-layer Netze performen deutlich schlechter.\n",
    "\n",
    "Die Ergebnisse der Vorhersagen haben sich bei den besten Architekturen im Schnitt deutlich verbessert.\n",
    "\n",
    "Bei der 1-feature-Vorhersage war das beste Netz bei einer MAE von ca. 9,38 gegen ein Ergebnis von ca. 7,79 bei 2 Features.\n",
    "\n",
    "Interessant ist außerdem, dass hier nur 100 Trainingsepochen für das beste Ergebnis benötigt wurden. Die Netze,\n",
    "welche zwei Features zur Vorhersage bekommen, scheinen also stärker zu overfitting zu neigen.\n",
    "\n",
    "Erwähnbar ist noch das Ergebnis eines 5-Layer Netzes, welches ich einmal Stichprobenartig getestet habe:"
   ]
  },
  {
   "cell_type": "code",
   "execution_count": 18,
   "metadata": {
    "pycharm": {
     "name": "#%%\n"
    }
   },
   "outputs": [
    {
     "data": {
      "image/png": "[encoded data removed]",
      "text/plain": [
       "<IPython.core.display.Image object>"
      ]
     },
     "execution_count": 18,
     "metadata": {},
     "output_type": "execute_result"
    }
   ],
   "source": [
    "from IPython.display import Image\n",
    "Image(filename='../pictures/5_layer_prediction.png')"
   ]
  },
  {
   "cell_type": "markdown",
   "metadata": {
    "pycharm": {
     "name": "#%% md\n"
    }
   },
   "source": [
    "Das Modell hat scheinbar gelernt, dass es den geringsten Fehler erzeugt, wenn es einfach gar nicht versucht dem Trend zu folgen,\n",
    "sondern einfach ca. denselben Wert beibehält.\n",
    "\n",
    "#### Bauen des Netzes\n",
    "\n",
    "Da wir nun wissen, welche Architektur benötigt wird, kann das Netz gebaut werden.\n",
    "\n",
    "Hier hat sich, außer der Modellparameter, nichts geändert. Wir rufen also einfach die Methode, welche weiter oben bereits beschrieben wurde,\n",
    "mit den neuen Parametern auf:\n",
    "\n"
   ]
  },
  {
   "cell_type": "code",
   "execution_count": 19,
   "metadata": {
    "pycharm": {
     "name": "#%%\n"
    }
   },
   "outputs": [
    {
     "name": "stdout",
     "output_type": "stream",
     "text": [
      "Epoch 1/100\n",
      "50/50 [==============================] - 0s 2ms/step - loss: 53.3230\n",
      "Epoch 2/100\n",
      "50/50 [==============================] - 0s 2ms/step - loss: 47.1732\n",
      "Epoch 3/100\n",
      "50/50 [==============================] - 0s 2ms/step - loss: 42.9722\n",
      "Epoch 4/100\n",
      "50/50 [==============================] - 0s 2ms/step - loss: 40.2156\n",
      "Epoch 5/100\n",
      "50/50 [==============================] - 0s 2ms/step - loss: 42.1394\n",
      "Epoch 6/100\n",
      "50/50 [==============================] - 0s 2ms/step - loss: 40.2379\n",
      "Epoch 7/100\n",
      "50/50 [==============================] - 0s 2ms/step - loss: 38.7281\n",
      "Epoch 8/100\n",
      "50/50 [==============================] - 0s 2ms/step - loss: 39.3400\n",
      "Epoch 9/100\n",
      "50/50 [==============================] - 0s 2ms/step - loss: 41.5472\n",
      "Epoch 10/100\n",
      "50/50 [==============================] - 0s 2ms/step - loss: 39.3158\n",
      "Epoch 11/100\n",
      "50/50 [==============================] - 0s 2ms/step - loss: 37.2567\n",
      "Epoch 12/100\n",
      "50/50 [==============================] - 0s 2ms/step - loss: 37.9072\n",
      "Epoch 13/100\n",
      "50/50 [==============================] - 0s 2ms/step - loss: 38.4121\n",
      "Epoch 14/100\n",
      "50/50 [==============================] - 0s 2ms/step - loss: 36.5597\n",
      "Epoch 15/100\n",
      "50/50 [==============================] - 0s 2ms/step - loss: 36.5727\n",
      "Epoch 16/100\n",
      "50/50 [==============================] - 0s 2ms/step - loss: 33.6668\n",
      "Epoch 17/100\n",
      "50/50 [==============================] - 0s 2ms/step - loss: 35.3589\n",
      "Epoch 18/100\n",
      "50/50 [==============================] - 0s 2ms/step - loss: 39.5138\n",
      "Epoch 19/100\n",
      "50/50 [==============================] - 0s 2ms/step - loss: 35.8009\n",
      "Epoch 20/100\n",
      "50/50 [==============================] - 0s 2ms/step - loss: 36.9624\n",
      "Epoch 21/100\n",
      "50/50 [==============================] - 0s 2ms/step - loss: 36.4502\n",
      "Epoch 22/100\n",
      "50/50 [==============================] - 0s 2ms/step - loss: 34.9716\n",
      "Epoch 23/100\n",
      "50/50 [==============================] - 0s 2ms/step - loss: 32.6888\n",
      "Epoch 24/100\n",
      "50/50 [==============================] - 0s 2ms/step - loss: 35.4058\n",
      "Epoch 25/100\n",
      "50/50 [==============================] - 0s 2ms/step - loss: 30.8290\n",
      "Epoch 26/100\n",
      "50/50 [==============================] - 0s 2ms/step - loss: 33.5064\n",
      "Epoch 27/100\n",
      "50/50 [==============================] - 0s 2ms/step - loss: 33.5396\n",
      "Epoch 28/100\n",
      "50/50 [==============================] - 0s 2ms/step - loss: 33.5916\n",
      "Epoch 29/100\n",
      "50/50 [==============================] - 0s 2ms/step - loss: 31.0865\n",
      "Epoch 30/100\n",
      "50/50 [==============================] - 0s 2ms/step - loss: 33.7268\n",
      "Epoch 31/100\n",
      "50/50 [==============================] - 0s 2ms/step - loss: 34.2043\n",
      "Epoch 32/100\n",
      "50/50 [==============================] - 0s 2ms/step - loss: 33.5546\n",
      "Epoch 33/100\n",
      "50/50 [==============================] - 0s 2ms/step - loss: 35.9576\n",
      "Epoch 34/100\n",
      "50/50 [==============================] - 0s 2ms/step - loss: 33.2373\n",
      "Epoch 35/100\n",
      "50/50 [==============================] - 0s 2ms/step - loss: 30.7877\n",
      "Epoch 36/100\n",
      "50/50 [==============================] - 0s 2ms/step - loss: 32.0248\n",
      "Epoch 37/100\n",
      "50/50 [==============================] - 0s 2ms/step - loss: 34.0329\n",
      "Epoch 38/100\n",
      "50/50 [==============================] - 0s 2ms/step - loss: 31.3872\n",
      "Epoch 39/100\n",
      "50/50 [==============================] - 0s 2ms/step - loss: 30.9098\n",
      "Epoch 40/100\n",
      "50/50 [==============================] - 0s 2ms/step - loss: 33.8930\n",
      "Epoch 41/100\n",
      "50/50 [==============================] - 0s 2ms/step - loss: 31.0496\n",
      "Epoch 42/100\n",
      "50/50 [==============================] - 0s 2ms/step - loss: 34.5954\n",
      "Epoch 43/100\n",
      "50/50 [==============================] - 0s 2ms/step - loss: 29.1852\n",
      "Epoch 44/100\n",
      "50/50 [==============================] - 0s 2ms/step - loss: 31.7888\n",
      "Epoch 45/100\n",
      "50/50 [==============================] - 0s 2ms/step - loss: 32.9983\n",
      "Epoch 46/100\n",
      "50/50 [==============================] - 0s 2ms/step - loss: 31.9523\n",
      "Epoch 47/100\n",
      "50/50 [==============================] - 0s 2ms/step - loss: 32.1541\n",
      "Epoch 48/100\n",
      "50/50 [==============================] - 0s 2ms/step - loss: 29.7343\n",
      "Epoch 49/100\n",
      "50/50 [==============================] - 0s 2ms/step - loss: 30.2861\n",
      "Epoch 50/100\n",
      "50/50 [==============================] - 0s 2ms/step - loss: 28.6880\n",
      "Epoch 51/100\n",
      "50/50 [==============================] - 0s 2ms/step - loss: 27.7662\n",
      "Epoch 52/100\n",
      "50/50 [==============================] - 0s 2ms/step - loss: 31.1918\n",
      "Epoch 53/100\n",
      "50/50 [==============================] - 0s 2ms/step - loss: 30.3967\n",
      "Epoch 54/100\n",
      "50/50 [==============================] - 0s 2ms/step - loss: 28.7668\n",
      "Epoch 55/100\n",
      "50/50 [==============================] - 0s 2ms/step - loss: 25.6134\n",
      "Epoch 56/100\n",
      "50/50 [==============================] - 0s 2ms/step - loss: 31.0325\n",
      "Epoch 57/100\n",
      "50/50 [==============================] - 0s 2ms/step - loss: 25.1334\n",
      "Epoch 58/100\n",
      "50/50 [==============================] - 0s 2ms/step - loss: 28.9761\n",
      "Epoch 59/100\n",
      "50/50 [==============================] - 0s 2ms/step - loss: 28.7536\n",
      "Epoch 60/100\n",
      "50/50 [==============================] - 0s 2ms/step - loss: 25.2663\n",
      "Epoch 61/100\n",
      "50/50 [==============================] - 0s 2ms/step - loss: 24.9294\n",
      "Epoch 62/100\n",
      "50/50 [==============================] - 0s 2ms/step - loss: 26.4183\n",
      "Epoch 63/100\n",
      "50/50 [==============================] - 0s 2ms/step - loss: 29.4890\n",
      "Epoch 64/100\n",
      "50/50 [==============================] - 0s 2ms/step - loss: 25.4958\n",
      "Epoch 65/100\n",
      "50/50 [==============================] - 0s 2ms/step - loss: 25.0787\n",
      "Epoch 66/100\n",
      "50/50 [==============================] - 0s 2ms/step - loss: 25.5999\n",
      "Epoch 67/100\n",
      "50/50 [==============================] - 0s 2ms/step - loss: 23.8207\n",
      "Epoch 68/100\n",
      "50/50 [==============================] - 0s 2ms/step - loss: 24.9193\n",
      "Epoch 69/100\n",
      "50/50 [==============================] - 0s 2ms/step - loss: 27.9469\n",
      "Epoch 70/100\n",
      "50/50 [==============================] - 0s 2ms/step - loss: 24.1022\n",
      "Epoch 71/100\n",
      "50/50 [==============================] - 0s 2ms/step - loss: 25.2677\n",
      "Epoch 72/100\n",
      "50/50 [==============================] - 0s 2ms/step - loss: 26.8367\n",
      "Epoch 73/100\n",
      "50/50 [==============================] - 0s 2ms/step - loss: 23.5085\n",
      "Epoch 74/100\n",
      "50/50 [==============================] - 0s 2ms/step - loss: 23.7415\n",
      "Epoch 75/100\n",
      "50/50 [==============================] - 0s 2ms/step - loss: 25.8814\n",
      "Epoch 76/100\n",
      "50/50 [==============================] - 0s 2ms/step - loss: 24.0929\n",
      "Epoch 77/100\n",
      "50/50 [==============================] - 0s 2ms/step - loss: 23.6354\n",
      "Epoch 78/100\n",
      "50/50 [==============================] - 0s 2ms/step - loss: 25.1314\n",
      "Epoch 79/100\n",
      "50/50 [==============================] - 0s 2ms/step - loss: 22.7892\n",
      "Epoch 80/100\n",
      "50/50 [==============================] - 0s 2ms/step - loss: 23.6583\n",
      "Epoch 81/100\n",
      "50/50 [==============================] - 0s 2ms/step - loss: 26.2983\n",
      "Epoch 82/100\n",
      "50/50 [==============================] - 0s 2ms/step - loss: 25.1649\n",
      "Epoch 83/100\n",
      "50/50 [==============================] - 0s 2ms/step - loss: 20.1843\n",
      "Epoch 84/100\n",
      "50/50 [==============================] - 0s 2ms/step - loss: 21.2777\n",
      "Epoch 85/100\n",
      "50/50 [==============================] - 0s 2ms/step - loss: 26.4406\n",
      "Epoch 86/100\n",
      "50/50 [==============================] - 0s 2ms/step - loss: 24.4220\n",
      "Epoch 87/100\n",
      "50/50 [==============================] - 0s 2ms/step - loss: 25.0206\n",
      "Epoch 88/100\n",
      "50/50 [==============================] - 0s 2ms/step - loss: 24.2423\n",
      "Epoch 89/100\n",
      "50/50 [==============================] - 0s 2ms/step - loss: 22.2686\n",
      "Epoch 90/100\n",
      "50/50 [==============================] - 0s 2ms/step - loss: 24.7308\n",
      "Epoch 91/100\n",
      "50/50 [==============================] - 0s 2ms/step - loss: 27.6398\n",
      "Epoch 92/100\n",
      "50/50 [==============================] - 0s 2ms/step - loss: 22.1236\n",
      "Epoch 93/100\n",
      "50/50 [==============================] - 0s 2ms/step - loss: 22.5716\n",
      "Epoch 94/100\n",
      "50/50 [==============================] - 0s 2ms/step - loss: 26.5867\n",
      "Epoch 95/100\n",
      "50/50 [==============================] - 0s 2ms/step - loss: 21.4943\n",
      "Epoch 96/100\n",
      "50/50 [==============================] - 0s 2ms/step - loss: 21.9372\n",
      "Epoch 97/100\n",
      "50/50 [==============================] - 0s 2ms/step - loss: 21.4803\n",
      "Epoch 98/100\n",
      "50/50 [==============================] - 0s 2ms/step - loss: 21.9966\n",
      "Epoch 99/100\n",
      "50/50 [==============================] - 0s 2ms/step - loss: 20.9706\n",
      "Epoch 100/100\n",
      "50/50 [==============================] - 0s 2ms/step - loss: 23.1192\n"
     ]
    }
   ],
   "source": [
    "neurons = 10\n",
    "epochs = 100\n",
    "hidden_layers = 1\n",
    "\n",
    "model = build_model(hidden_layers, neurons, epochs)"
   ]
  },
  {
   "cell_type": "markdown",
   "metadata": {},
   "source": [
    "Das Training ging nun deutlich schneller, aufgrund der simpleren Netzarchitektur und der Anzahl der Epochen.\n",
    "\n",
    "#### Evaluation des Netzes\n",
    "\n",
    "Analog zu den Testdaten, müssen die Trainingsdaten noch vorbereitet werden."
   ]
  },
  {
   "cell_type": "code",
   "execution_count": 20,
   "metadata": {
    "pycharm": {
     "name": "#%%\n"
    }
   },
   "outputs": [],
   "source": [
    "X_test = []\n",
    "inputs = df.iloc[:, 2:4]\n",
    "inputs = inputs[len(inputs) - len(test_data) - batch_size:].values\n",
    "inputs = inputs.reshape(-1, 2)\n",
    "inputs = normalizer.transform(inputs)\n",
    "\n",
    "for i in range(batch_size, len(inputs)):\n",
    "    X_test.append(inputs[i - batch_size:i, 0:2])\n",
    "X_test = np.array(X_test)\n",
    "X_test = np.reshape(X_test, (X_test.shape[0], X_test.shape[1], 2))"
   ]
  },
  {
   "cell_type": "markdown",
   "metadata": {},
   "source": [
    "Anschließend werden Vorhersagen gemacht, welche wieder in ihre ursprüngliche Form zurück transformiert werden.\n",
    "\n",
    "Da der MinMaxScaler auf zwei Features gefittet ist müssen wir dem Array mit den Vorhersagewerten\n",
    "noch die Anzahl der Reddit Kommentare hinzufügen, welche wir nach der inversen Transformation aber nicht mehr benötigen.\n"
   ]
  },
  {
   "cell_type": "code",
   "execution_count": 21,
   "metadata": {
    "pycharm": {
     "name": "#%%\n"
    }
   },
   "outputs": [],
   "source": [
    "predicted_stock_price = model.predict(X_test)\n",
    "second_feature = np.array(df.iloc[train_threshold:, 3:4].values)\n",
    "predicted_stock_price_with_2nd_feature = np.column_stack((predicted_stock_price, second_feature))\n",
    "predicted_stock_price_with_2nd_feature = normalizer.inverse_transform(predicted_stock_price_with_2nd_feature)\n",
    "predicted_stock_price = predicted_stock_price_with_2nd_feature[:, 0]"
   ]
  },
  {
   "cell_type": "markdown",
   "metadata": {},
   "source": [
    "Zuerst schauen wir uns wieder die Vorhersagen im Vergleich zu den wahren Kurswerten in einer Tabelle an:"
   ]
  },
  {
   "cell_type": "code",
   "execution_count": 22,
   "metadata": {
    "pycharm": {
     "name": "#%%\n"
    }
   },
   "outputs": [
    {
     "name": "stdout",
     "output_type": "stream",
     "text": [
      "Timestep=1, Predicted=177.760046, Actual=189.820007\n",
      "Timestep=2, Predicted=178.789898, Actual=191.449997\n",
      "Timestep=3, Predicted=179.162251, Actual=186.949997\n",
      "Timestep=4, Predicted=177.242163, Actual=184.500000\n",
      "Timestep=5, Predicted=172.985619, Actual=177.970001\n",
      "Timestep=6, Predicted=168.338496, Actual=170.259995\n",
      "Timestep=7, Predicted=163.740771, Actual=158.360001\n",
      "Timestep=8, Predicted=155.136031, Actual=141.089996\n",
      "Timestep=9, Predicted=142.756401, Actual=140.990005\n",
      "Timestep=10, Predicted=136.443638, Actual=166.529999\n",
      "Timestep=11, Predicted=146.820395, Actual=156.440002\n",
      "Timestep=12, Predicted=148.752028, Actual=154.690002\n",
      "Timestep=13, Predicted=150.664251, Actual=164.369995\n",
      "Timestep=14, Predicted=153.974073, Actual=158.529999\n",
      "Timestep=15, Predicted=151.808247, Actual=158.509995\n",
      "Timestep=16, Predicted=151.602716, Actual=151.169998\n",
      "Timestep=17, Predicted=148.507363, Actual=151.179993\n",
      "Timestep=18, Predicted=146.933997, Actual=168.929993\n",
      "Timestep=19, Predicted=155.638127, Actual=177.770004\n",
      "Timestep=20, Predicted=164.428310, Actual=178.580002\n",
      "Timestep=21, Predicted=168.583367, Actual=176.190002\n",
      "Timestep=22, Predicted=169.270651, Actual=173.589996\n",
      "Timestep=23, Predicted=167.482905, Actual=162.199997\n",
      "Timestep=24, Predicted=160.386570, Actual=160.729996\n",
      "Timestep=25, Predicted=155.437113, Actual=159.479996\n",
      "Timestep=26, Predicted=153.076229, Actual=161.009995\n",
      "Timestep=27, Predicted=153.591376, Actual=161.110001\n",
      "Timestep=28, Predicted=152.935264, Actual=143.220001\n",
      "Timestep=29, Predicted=144.902758, Actual=146.919998\n"
     ]
    }
   ],
   "source": [
    "for i in range(len(predicted_stock_price)):\n",
    "    print(\"Timestep=%d, Predicted=%f, Actual=%f\" % (i+1, predicted_stock_price[i], test_data[i]))\n"
   ]
  },
  {
   "cell_type": "markdown",
   "metadata": {},
   "source": [
    "Die Abweichungen sehen auf den ersten Blick wieder einigermaßen\n",
    "passabel aus. Um es genauer zu sehen, wird wieder ein Plot erzeugt:\n"
   ]
  },
  {
   "cell_type": "code",
   "execution_count": 23,
   "metadata": {
    "pycharm": {
     "name": "#%%\n"
    }
   },
   "outputs": [
    {
     "data": {
      "image/png": "[encoded data removed]",
      "text/plain": [
       "<Figure size 432x288 with 1 Axes>"
      ]
     },
     "metadata": {
      "needs_background": "light"
     },
     "output_type": "display_data"
    }
   ],
   "source": [
    "from matplotlib import pyplot\n",
    "\n",
    "pyplot.plot(test_data, label=\"Echte Kursdaten\")\n",
    "pyplot.plot(predicted_stock_price, label=\"Predictions\")\n",
    "pyplot.legend()\n",
    "pyplot.show()"
   ]
  },
  {
   "cell_type": "markdown",
   "metadata": {},
   "source": [
    "Der Plot sieht sehr gut aus. Die Abweichungen sind akzeptabel und dem Trend wird, leicht verzögert, sehr gut gefolgt.\n",
    "\n",
    "Nun die Metrics:"
   ]
  },
  {
   "cell_type": "code",
   "execution_count": 24,
   "metadata": {
    "pycharm": {
     "name": "#%%\n"
    }
   },
   "outputs": [
    {
     "name": "stdout",
     "output_type": "stream",
     "text": [
      "MAE: 8.573692708451448\n",
      "MAPE: 5.141605063399717\n",
      "MDA 53.06122448979592\n"
     ]
    }
   ],
   "source": [
    "from sklearn import metrics\n",
    "# Metrics\n",
    "print(\"MAE:\", metrics.mean_absolute_error(test_data, predicted_stock_price))\n",
    "print(\"MAPE:\", metrics.mean_absolute_percentage_error(test_data, predicted_stock_price) * 100)\n",
    "print(\"MDA\", mda(test_data, predicted_stock_price) * 100)\n"
   ]
  },
  {
   "cell_type": "markdown",
   "metadata": {},
   "source": [
    "Wie schon in der CSV gesehen, sind die Metrics des Netzes, welches mit zwei Features trainiert wurde, besser.\n",
    "\n",
    "Das Netz konnte also durch die Hinzunahme der Anzahl der Reddit-Kommentare zu Gamestop an den jeweiligen Tagen seine Vorhersagen verbessern.\n",
    "\n",
    "Die Hypothese, dass diese Kommentare mit der Kursentwicklung zusammen hängen, ist somit bestätigt.\n",
    "\n",
    "Aus meiner Sicht ist dieses Ergebnis sehr zufriedenstellend, wenn man die normalerweise unberechenbare Natur von Aktienkursen bedenkt, denn die durchschnittliche\n",
    "prozentuale Abweichung der Vorhersage liegt nur bei 4-5%! Es wird außerdem öfter als in 50% der Fälle die Richtung des Aktienkurses richtig vorhergesagt. Aus meiner Sicht\n",
    "ist bei Aktien alles über 50% für die Richtung des Kurses ein gutes Ergebnis, da Aktienkursentwicklungen kurzfristig normalerweise nicht vorhersehbar sind. (Quelle: https://de.wikipedia.org/wiki/Markteffizienzhypothese)\n",
    "\n",
    "Um zu zeigen wie das Modell im besten Fall performen kann, wird noch mal ein außergewöhnlich gutes Modell importiert:\n"
   ]
  },
  {
   "cell_type": "code",
   "execution_count": 25,
   "metadata": {
    "pycharm": {
     "name": "#%%\n"
    }
   },
   "outputs": [
    {
     "name": "stdout",
     "output_type": "stream",
     "text": [
      "MAE: 6.174529053306612\n",
      "MAPE: 3.8570587907027707\n",
      "MDA 57.14285714285714\n"
     ]
    },
    {
     "data": {
      "image/png": "[encoded data removed]",
      "text/plain": [
       "<Figure size 432x288 with 1 Axes>"
      ]
     },
     "metadata": {
      "needs_background": "light"
     },
     "output_type": "display_data"
    }
   ],
   "source": [
    "from tensorflow import keras\n",
    "model = keras.models.load_model(\"../models/best_closeAndReddit_model\")\n",
    "\n",
    "predicted_stock_price = model.predict(X_test)\n",
    "predicted_stock_price_with_2nd_feature = np.column_stack((predicted_stock_price, second_feature))\n",
    "predicted_stock_price_with_2nd_feature = normalizer.inverse_transform(predicted_stock_price_with_2nd_feature)\n",
    "predicted_stock_price = predicted_stock_price_with_2nd_feature[:, 0]\n",
    "\n",
    "from sklearn import metrics\n",
    "# Metrics\n",
    "print(\"MAE:\", metrics.mean_absolute_error(test_data, predicted_stock_price))\n",
    "print(\"MAPE:\", metrics.mean_absolute_percentage_error(test_data, predicted_stock_price) * 100)\n",
    "print(\"MDA\", mda(test_data, predicted_stock_price) * 100)\n",
    "\n",
    "from matplotlib import pyplot\n",
    "\n",
    "pyplot.plot(test_data, label=\"Echte Kursdaten\")\n",
    "pyplot.plot(predicted_stock_price, label=\"Predictions\")\n",
    "pyplot.legend()\n",
    "pyplot.show()"
   ]
  },
  {
   "cell_type": "markdown",
   "metadata": {},
   "source": [
    "### Fazit\n",
    "\n",
    "Zusammenfassend lässt sich sagen, dass ich von den\n",
    "Ergebnissen sowohl bei nur einem als auch bei zwei Features positiv überrascht bin.\n",
    "Die Ergebnisse sind deutlich besser als ich es erwartet habe, vor allem bei nur einem Feature.\n",
    "\n",
    "Weiterhin hat sich die Hypothese, dass die Reddit-Kommentare die Vorhersage verbessern,\n",
    "bewahrheitet. So lässt sich das Bauen des rekurennten Netzes definitiv als\n",
    "Erfolg bewerten. Außerdem hat sich gezeigt, dass mehr Features nicht unbedingt von einer komplexeren\n",
    "Netz-Architektur profitieren, was ich eigentlich erwartet hätte. Man sollte also immer wenn man den\n",
    "Datensatz verändert oder neue Features hinzuzieht noch einmal seine Architektur-Entscheidungen neu\n",
    "evaluieren.\n",
    "\n",
    "Im Abschluss wird dann noch das Ergebnis dieses Modells mit den Ergebnissen\n",
    "des Arima- und des Regressionsmodells verglichen."
   ]
  }
 ],
 "metadata": {
  "kernelspec": {
   "display_name": "Python 3",
   "language": "python",
   "name": "python3"
  },
  "language_info": {
   "codemirror_mode": {
    "name": "ipython",
    "version": 3
   },
   "file_extension": ".py",
   "mimetype": "text/x-python",
   "name": "python",
   "nbconvert_exporter": "python",
   "pygments_lexer": "ipython3",
   "version": "3.8.8"
  }
 },
 "nbformat": 4,
 "nbformat_minor": 1
}