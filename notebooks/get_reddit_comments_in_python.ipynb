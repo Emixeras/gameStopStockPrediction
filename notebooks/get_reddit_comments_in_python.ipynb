{
 "cells": [
  {
   "cell_type": "markdown",
   "source": [
    "#### Abfrage und Erstellen des Reddit-Features - von Simon Faltenberg\n",
    "\n"
   ],
   "metadata": {
    "collapsed": false
   }
  },
  {
   "cell_type": "code",
   "execution_count": 20,
   "metadata": {},
   "outputs": [
    {
     "name": "stdout",
     "output_type": "stream",
     "text": [
      "Requirement already satisfied: pmaw in c:\\users\\s.faltenberg\\anaconda3\\lib\\site-packages (1.1.0)\n",
      "Requirement already satisfied: requests in c:\\users\\s.faltenberg\\anaconda3\\lib\\site-packages (from pmaw) (2.24.0)\n",
      "Requirement already satisfied: idna<3,>=2.5 in c:\\users\\s.faltenberg\\anaconda3\\lib\\site-packages (from requests->pmaw) (2.10)\n",
      "Requirement already satisfied: urllib3!=1.25.0,!=1.25.1,<1.26,>=1.21.1 in c:\\users\\s.faltenberg\\anaconda3\\lib\\site-packages (from requests->pmaw) (1.25.11)\n",
      "Requirement already satisfied: chardet<4,>=3.0.2 in c:\\users\\s.faltenberg\\anaconda3\\lib\\site-packages (from requests->pmaw) (3.0.4)\n",
      "Requirement already satisfied: certifi>=2017.4.17 in c:\\users\\s.faltenberg\\anaconda3\\lib\\site-packages (from requests->pmaw) (2020.6.20)\n",
      "Note: you may need to restart the kernel to use updated packages.\n"
     ]
    }
   ],
   "source": [
    "pip install pmaw"
   ]
  },
  {
   "cell_type": "markdown",
   "metadata": {},
   "source": [
    "Die API-Abfrage, um Kommentare in das DataFrame zu schreiben"
   ]
  },
  {
   "cell_type": "code",
   "execution_count": null,
   "metadata": {},
   "outputs": [],
   "source": [
    "import pandas as pd\n",
    "from pmaw import PushshiftAPI"
   ]
  },
  {
   "cell_type": "markdown",
   "metadata": {},
   "source": [
    " Da die Reddit-API nicht so funktioniert hat wie erwartet, wurde die PushshiftAPI genutzt. Diese API hat keine max. Grenze an Request womit wir dann um die 930.000 Kommentare abfragen konnten. Aus repräsentativen Zwecke, wurde ein Limit auf 2000 Kommentaren gesetzt um den Code trotzdem veranschaulichen zu können.\n",
    "\n",
    "\n",
    "Erstellen der Variablen für die Zeitraumspanne, subreddit und query\n",
    "API Abfrage. Anschließend wird das  Ergebnis in ein DataFrame geschrieben:"
   ]
  },
  {
   "cell_type": "code",
   "execution_count": 41,
   "metadata": {},
   "outputs": [
    {
     "name": "stdout",
     "output_type": "stream",
     "text": [
      "Total:: Success Rate: 100.00% - Requests: 23 - Batches: 3 - Items Remaining: 0\n",
      "Retrieved 2000 comments from Pushshift\n"
     ]
    }
   ],
   "source": [
    "api = PushshiftAPI()\n",
    "\n",
    "\n",
    "import datetime as dt\n",
    "before = int(dt.datetime(2021,1,11,0,0).timestamp()) #last date to get comments from\n",
    "after = int(dt.datetime(2021,1,7,0,0).timestamp()) #first date to get comments from\n",
    "\n",
    "\n",
    "\n",
    "subreddit=\"wallstreetbets\" #reddit group \n",
    "query = [\"Gamestop | GME\"] #words to search in comments\n",
    "limit=2000 \n",
    "comments = api.search_comments(q = query, subreddit=subreddit, limit=limit, before=before, after=after) #api request to get comments\n",
    "print(f'Retrieved {len(comments)} comments from Pushshift') #feedback from terminal\n",
    "\n",
    "comments_df = pd.DataFrame(comments) #create the DataFrame"
   ]
  },
  {
   "cell_type": "markdown",
   "metadata": {},
   "source": [
    "Aufbau des DataFrame"
   ]
  },
  {
   "cell_type": "code",
   "execution_count": 42,
   "metadata": {
    "scrolled": false
   },
   "outputs": [
    {
     "data": {
      "text/html": [
       "<div>\n",
       "<style scoped>\n",
       "    .dataframe tbody tr th:only-of-type {\n",
       "        vertical-align: middle;\n",
       "    }\n",
       "\n",
       "    .dataframe tbody tr th {\n",
       "        vertical-align: top;\n",
       "    }\n",
       "\n",
       "    .dataframe thead th {\n",
       "        text-align: right;\n",
       "    }\n",
       "</style>\n",
       "<table border=\"1\" class=\"dataframe\">\n",
       "  <thead>\n",
       "    <tr style=\"text-align: right;\">\n",
       "      <th></th>\n",
       "      <th>all_awardings</th>\n",
       "      <th>associated_award</th>\n",
       "      <th>author</th>\n",
       "      <th>author_flair_background_color</th>\n",
       "      <th>author_flair_css_class</th>\n",
       "      <th>author_flair_richtext</th>\n",
       "      <th>author_flair_template_id</th>\n",
       "      <th>author_flair_text</th>\n",
       "      <th>author_flair_text_color</th>\n",
       "      <th>author_flair_type</th>\n",
       "      <th>...</th>\n",
       "      <th>score</th>\n",
       "      <th>send_replies</th>\n",
       "      <th>stickied</th>\n",
       "      <th>subreddit</th>\n",
       "      <th>subreddit_id</th>\n",
       "      <th>top_awarded_type</th>\n",
       "      <th>total_awards_received</th>\n",
       "      <th>treatment_tags</th>\n",
       "      <th>distinguished</th>\n",
       "      <th>author_cakeday</th>\n",
       "    </tr>\n",
       "  </thead>\n",
       "  <tbody>\n",
       "    <tr>\n",
       "      <th>0</th>\n",
       "      <td>[]</td>\n",
       "      <td>None</td>\n",
       "      <td>All_I_Eat_Is_Gucci</td>\n",
       "      <td>None</td>\n",
       "      <td>None</td>\n",
       "      <td>[]</td>\n",
       "      <td>None</td>\n",
       "      <td>None</td>\n",
       "      <td>None</td>\n",
       "      <td>text</td>\n",
       "      <td>...</td>\n",
       "      <td>1</td>\n",
       "      <td>True</td>\n",
       "      <td>False</td>\n",
       "      <td>wallstreetbets</td>\n",
       "      <td>t5_2th52</td>\n",
       "      <td>None</td>\n",
       "      <td>0</td>\n",
       "      <td>[]</td>\n",
       "      <td>NaN</td>\n",
       "      <td>NaN</td>\n",
       "    </tr>\n",
       "    <tr>\n",
       "      <th>1</th>\n",
       "      <td>[]</td>\n",
       "      <td>None</td>\n",
       "      <td>TheLilThnake</td>\n",
       "      <td>None</td>\n",
       "      <td>None</td>\n",
       "      <td>[]</td>\n",
       "      <td>None</td>\n",
       "      <td>None</td>\n",
       "      <td>None</td>\n",
       "      <td>text</td>\n",
       "      <td>...</td>\n",
       "      <td>6</td>\n",
       "      <td>True</td>\n",
       "      <td>False</td>\n",
       "      <td>wallstreetbets</td>\n",
       "      <td>t5_2th52</td>\n",
       "      <td>None</td>\n",
       "      <td>0</td>\n",
       "      <td>[]</td>\n",
       "      <td>NaN</td>\n",
       "      <td>NaN</td>\n",
       "    </tr>\n",
       "    <tr>\n",
       "      <th>2</th>\n",
       "      <td>[]</td>\n",
       "      <td>None</td>\n",
       "      <td>RoyalFail6</td>\n",
       "      <td>None</td>\n",
       "      <td>None</td>\n",
       "      <td>[]</td>\n",
       "      <td>None</td>\n",
       "      <td>None</td>\n",
       "      <td>None</td>\n",
       "      <td>text</td>\n",
       "      <td>...</td>\n",
       "      <td>2</td>\n",
       "      <td>True</td>\n",
       "      <td>False</td>\n",
       "      <td>wallstreetbets</td>\n",
       "      <td>t5_2th52</td>\n",
       "      <td>None</td>\n",
       "      <td>0</td>\n",
       "      <td>[]</td>\n",
       "      <td>NaN</td>\n",
       "      <td>NaN</td>\n",
       "    </tr>\n",
       "  </tbody>\n",
       "</table>\n",
       "<p>3 rows × 37 columns</p>\n",
       "</div>"
      ],
      "text/plain": [
       "  all_awardings associated_award              author  \\\n",
       "0            []             None  All_I_Eat_Is_Gucci   \n",
       "1            []             None        TheLilThnake   \n",
       "2            []             None          RoyalFail6   \n",
       "\n",
       "  author_flair_background_color author_flair_css_class author_flair_richtext  \\\n",
       "0                          None                   None                    []   \n",
       "1                          None                   None                    []   \n",
       "2                          None                   None                    []   \n",
       "\n",
       "  author_flair_template_id author_flair_text author_flair_text_color  \\\n",
       "0                     None              None                    None   \n",
       "1                     None              None                    None   \n",
       "2                     None              None                    None   \n",
       "\n",
       "  author_flair_type  ... score send_replies stickied       subreddit  \\\n",
       "0              text  ...     1         True    False  wallstreetbets   \n",
       "1              text  ...     6         True    False  wallstreetbets   \n",
       "2              text  ...     2         True    False  wallstreetbets   \n",
       "\n",
       "  subreddit_id top_awarded_type total_awards_received  treatment_tags  \\\n",
       "0     t5_2th52             None                     0              []   \n",
       "1     t5_2th52             None                     0              []   \n",
       "2     t5_2th52             None                     0              []   \n",
       "\n",
       "  distinguished author_cakeday  \n",
       "0           NaN            NaN  \n",
       "1           NaN            NaN  \n",
       "2           NaN            NaN  \n",
       "\n",
       "[3 rows x 37 columns]"
      ]
     },
     "execution_count": 42,
     "metadata": {},
     "output_type": "execute_result"
    }
   ],
   "source": [
    "comments_df.head(3)"
   ]
  },
  {
   "cell_type": "markdown",
   "metadata": {},
   "source": [
    "Der Counter um die Anzahl Kommentare pro Tag zu errechnen"
   ]
  },
  {
   "cell_type": "code",
   "execution_count": 32,
   "metadata": {},
   "outputs": [],
   "source": [
    "import datetime"
   ]
  },
  {
   "cell_type": "markdown",
   "metadata": {},
   "source": [
    "Neues DataFrame mit den drei entscheidenden Attributen erstellen"
   ]
  },
  {
   "cell_type": "code",
   "execution_count": 43,
   "metadata": {},
   "outputs": [
    {
     "data": {
      "text/html": [
       "<div>\n",
       "<style scoped>\n",
       "    .dataframe tbody tr th:only-of-type {\n",
       "        vertical-align: middle;\n",
       "    }\n",
       "\n",
       "    .dataframe tbody tr th {\n",
       "        vertical-align: top;\n",
       "    }\n",
       "\n",
       "    .dataframe thead th {\n",
       "        text-align: right;\n",
       "    }\n",
       "</style>\n",
       "<table border=\"1\" class=\"dataframe\">\n",
       "  <thead>\n",
       "    <tr style=\"text-align: right;\">\n",
       "      <th></th>\n",
       "      <th>author</th>\n",
       "      <th>body</th>\n",
       "      <th>created_utc</th>\n",
       "    </tr>\n",
       "  </thead>\n",
       "  <tbody>\n",
       "    <tr>\n",
       "      <th>0</th>\n",
       "      <td>All_I_Eat_Is_Gucci</td>\n",
       "      <td>Hope my GME calls recover a bit, and hope ICLN...</td>\n",
       "      <td>1610008485</td>\n",
       "    </tr>\n",
       "    <tr>\n",
       "      <th>1</th>\n",
       "      <td>TheLilThnake</td>\n",
       "      <td>i’m calling it. GME to $20 tmmr before close.</td>\n",
       "      <td>1610008422</td>\n",
       "    </tr>\n",
       "    <tr>\n",
       "      <th>2</th>\n",
       "      <td>RoyalFail6</td>\n",
       "      <td>Hopefully it doesn’t fall like Purple, GME, PL...</td>\n",
       "      <td>1610008304</td>\n",
       "    </tr>\n",
       "    <tr>\n",
       "      <th>3</th>\n",
       "      <td>Funguyguy</td>\n",
       "      <td>Burry owns 5% GME, so 50 vix 50 GME?</td>\n",
       "      <td>1610007861</td>\n",
       "    </tr>\n",
       "    <tr>\n",
       "      <th>4</th>\n",
       "      <td>Nasty_Nate2324</td>\n",
       "      <td>How is it bullshit if there was no opinion mad...</td>\n",
       "      <td>1610007412</td>\n",
       "    </tr>\n",
       "  </tbody>\n",
       "</table>\n",
       "</div>"
      ],
      "text/plain": [
       "               author                                               body  \\\n",
       "0  All_I_Eat_Is_Gucci  Hope my GME calls recover a bit, and hope ICLN...   \n",
       "1        TheLilThnake      i’m calling it. GME to $20 tmmr before close.   \n",
       "2          RoyalFail6  Hopefully it doesn’t fall like Purple, GME, PL...   \n",
       "3           Funguyguy               Burry owns 5% GME, so 50 vix 50 GME?   \n",
       "4      Nasty_Nate2324  How is it bullshit if there was no opinion mad...   \n",
       "\n",
       "   created_utc  \n",
       "0   1610008485  \n",
       "1   1610008422  \n",
       "2   1610008304  \n",
       "3   1610007861  \n",
       "4   1610007412  "
      ]
     },
     "execution_count": 43,
     "metadata": {},
     "output_type": "execute_result"
    }
   ],
   "source": [
    "df = pd.DataFrame(comments_df)\n",
    "df = df[['author', 'body', 'created_utc']] #overwrite df and keep just named variables\n",
    "df.head(5)"
   ]
  },
  {
   "cell_type": "markdown",
   "metadata": {},
   "source": [
    "Umrechnung der UNIX-Zeit zum normalen Datum."
   ]
  },
  {
   "cell_type": "code",
   "execution_count": 44,
   "metadata": {},
   "outputs": [
    {
     "data": {
      "text/html": [
       "<div>\n",
       "<style scoped>\n",
       "    .dataframe tbody tr th:only-of-type {\n",
       "        vertical-align: middle;\n",
       "    }\n",
       "\n",
       "    .dataframe tbody tr th {\n",
       "        vertical-align: top;\n",
       "    }\n",
       "\n",
       "    .dataframe thead th {\n",
       "        text-align: right;\n",
       "    }\n",
       "</style>\n",
       "<table border=\"1\" class=\"dataframe\">\n",
       "  <thead>\n",
       "    <tr style=\"text-align: right;\">\n",
       "      <th></th>\n",
       "      <th>author</th>\n",
       "      <th>body</th>\n",
       "      <th>created_utc</th>\n",
       "      <th>timestamp</th>\n",
       "      <th>just_date</th>\n",
       "    </tr>\n",
       "  </thead>\n",
       "  <tbody>\n",
       "    <tr>\n",
       "      <th>0</th>\n",
       "      <td>All_I_Eat_Is_Gucci</td>\n",
       "      <td>Hope my GME calls recover a bit, and hope ICLN...</td>\n",
       "      <td>1610008485</td>\n",
       "      <td>2021-01-07 08:34:45</td>\n",
       "      <td>2021-01-07</td>\n",
       "    </tr>\n",
       "    <tr>\n",
       "      <th>1</th>\n",
       "      <td>TheLilThnake</td>\n",
       "      <td>i’m calling it. GME to $20 tmmr before close.</td>\n",
       "      <td>1610008422</td>\n",
       "      <td>2021-01-07 08:33:42</td>\n",
       "      <td>2021-01-07</td>\n",
       "    </tr>\n",
       "    <tr>\n",
       "      <th>2</th>\n",
       "      <td>RoyalFail6</td>\n",
       "      <td>Hopefully it doesn’t fall like Purple, GME, PL...</td>\n",
       "      <td>1610008304</td>\n",
       "      <td>2021-01-07 08:31:44</td>\n",
       "      <td>2021-01-07</td>\n",
       "    </tr>\n",
       "    <tr>\n",
       "      <th>3</th>\n",
       "      <td>Funguyguy</td>\n",
       "      <td>Burry owns 5% GME, so 50 vix 50 GME?</td>\n",
       "      <td>1610007861</td>\n",
       "      <td>2021-01-07 08:24:21</td>\n",
       "      <td>2021-01-07</td>\n",
       "    </tr>\n",
       "    <tr>\n",
       "      <th>4</th>\n",
       "      <td>Nasty_Nate2324</td>\n",
       "      <td>How is it bullshit if there was no opinion mad...</td>\n",
       "      <td>1610007412</td>\n",
       "      <td>2021-01-07 08:16:52</td>\n",
       "      <td>2021-01-07</td>\n",
       "    </tr>\n",
       "  </tbody>\n",
       "</table>\n",
       "</div>"
      ],
      "text/plain": [
       "               author                                               body  \\\n",
       "0  All_I_Eat_Is_Gucci  Hope my GME calls recover a bit, and hope ICLN...   \n",
       "1        TheLilThnake      i’m calling it. GME to $20 tmmr before close.   \n",
       "2          RoyalFail6  Hopefully it doesn’t fall like Purple, GME, PL...   \n",
       "3           Funguyguy               Burry owns 5% GME, so 50 vix 50 GME?   \n",
       "4      Nasty_Nate2324  How is it bullshit if there was no opinion mad...   \n",
       "\n",
       "   created_utc           timestamp   just_date  \n",
       "0   1610008485 2021-01-07 08:34:45  2021-01-07  \n",
       "1   1610008422 2021-01-07 08:33:42  2021-01-07  \n",
       "2   1610008304 2021-01-07 08:31:44  2021-01-07  \n",
       "3   1610007861 2021-01-07 08:24:21  2021-01-07  \n",
       "4   1610007412 2021-01-07 08:16:52  2021-01-07  "
      ]
     },
     "execution_count": 44,
     "metadata": {},
     "output_type": "execute_result"
    }
   ],
   "source": [
    "df[\"timestamp\"] = pd.to_datetime(df[\"created_utc\"], unit=\"s\") #get the timestamp\n",
    "df[\"just_date\"] = df[\"timestamp\"].dt.date \n",
    "df.head(5)"
   ]
  },
  {
   "cell_type": "markdown",
   "metadata": {},
   "source": [
    "Zählen der erstellten Kommentare pro Tag"
   ]
  },
  {
   "cell_type": "code",
   "execution_count": 45,
   "metadata": {},
   "outputs": [
    {
     "data": {
      "text/html": [
       "<div>\n",
       "<style scoped>\n",
       "    .dataframe tbody tr th:only-of-type {\n",
       "        vertical-align: middle;\n",
       "    }\n",
       "\n",
       "    .dataframe tbody tr th {\n",
       "        vertical-align: top;\n",
       "    }\n",
       "\n",
       "    .dataframe thead th {\n",
       "        text-align: right;\n",
       "    }\n",
       "</style>\n",
       "<table border=\"1\" class=\"dataframe\">\n",
       "  <thead>\n",
       "    <tr style=\"text-align: right;\">\n",
       "      <th></th>\n",
       "      <th>just_date</th>\n",
       "      <th>Count</th>\n",
       "    </tr>\n",
       "  </thead>\n",
       "  <tbody>\n",
       "    <tr>\n",
       "      <th>0</th>\n",
       "      <td>2021-01-07</td>\n",
       "      <td>640</td>\n",
       "    </tr>\n",
       "    <tr>\n",
       "      <th>200</th>\n",
       "      <td>2021-01-08</td>\n",
       "      <td>612</td>\n",
       "    </tr>\n",
       "    <tr>\n",
       "      <th>500</th>\n",
       "      <td>2021-01-09</td>\n",
       "      <td>332</td>\n",
       "    </tr>\n",
       "    <tr>\n",
       "      <th>693</th>\n",
       "      <td>2021-01-10</td>\n",
       "      <td>415</td>\n",
       "    </tr>\n",
       "    <tr>\n",
       "      <th>1092</th>\n",
       "      <td>2021-01-06</td>\n",
       "      <td>1</td>\n",
       "    </tr>\n",
       "  </tbody>\n",
       "</table>\n",
       "</div>"
      ],
      "text/plain": [
       "       just_date  Count\n",
       "0     2021-01-07    640\n",
       "200   2021-01-08    612\n",
       "500   2021-01-09    332\n",
       "693   2021-01-10    415\n",
       "1092  2021-01-06      1"
      ]
     },
     "execution_count": 45,
     "metadata": {},
     "output_type": "execute_result"
    }
   ],
   "source": [
    "counter = df.groupby(\"just_date\").size().rename(\"Count\") #count comments per day\n",
    "\n",
    "result = df.drop_duplicates(subset='just_date')\\\n",
    "    .merge(counter, left_on='just_date', right_index=True) #keep one comment for every day\n",
    "result = result[['just_date', 'Count']] #keep the variable 'just date' and 'Count'\n",
    "result"
   ]
  }
 ],
 "metadata": {
  "kernelspec": {
   "display_name": "Python 3",
   "language": "python",
   "name": "python3"
  },
  "language_info": {
   "codemirror_mode": {
    "name": "ipython",
    "version": 3
   },
   "file_extension": ".py",
   "mimetype": "text/x-python",
   "name": "python",
   "nbconvert_exporter": "python",
   "pygments_lexer": "ipython3",
   "version": "3.8.10"
  }
 },
 "nbformat": 4,
 "nbformat_minor": 4
}